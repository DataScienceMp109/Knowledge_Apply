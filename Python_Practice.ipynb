{
 "cells": [
  {
   "cell_type": "code",
   "execution_count": 171,
   "metadata": {
    "collapsed": false
   },
   "outputs": [],
   "source": [
    "%matplotlib inline\n",
    "import numpy as np\n",
    "import scipy as sp\n",
    "import matplotlib as mpl\n",
    "import matplotlib.cm as cm\n",
    "import matplotlib.pyplot as plt\n",
    "import pandas as pd\n",
    "pd.set_option('display.width', 500)\n",
    "pd.set_option('display.max_columns', 100)\n",
    "pd.set_option('display.notebook_repr_html', True)\n",
    "import seaborn as sns\n",
    "sns.set_style(\"whitegrid\")\n",
    "sns.set_context(\"poster\")"
   ]
  },
  {
   "cell_type": "code",
   "execution_count": 172,
   "metadata": {
    "collapsed": false
   },
   "outputs": [
    {
     "name": "stderr",
     "output_type": "stream",
     "text": [
      "Skipping line 6452: expected 8 fields, saw 9\n",
      "Skipping line 43667: expected 8 fields, saw 10\n",
      "Skipping line 51751: expected 8 fields, saw 9\n",
      "\n",
      "Skipping line 92038: expected 8 fields, saw 9\n",
      "Skipping line 104319: expected 8 fields, saw 9\n",
      "Skipping line 121768: expected 8 fields, saw 9\n",
      "\n",
      "Skipping line 144058: expected 8 fields, saw 9\n",
      "Skipping line 150789: expected 8 fields, saw 9\n",
      "Skipping line 157128: expected 8 fields, saw 9\n",
      "Skipping line 180189: expected 8 fields, saw 9\n",
      "Skipping line 185738: expected 8 fields, saw 9\n",
      "\n",
      "Skipping line 209388: expected 8 fields, saw 9\n",
      "Skipping line 220626: expected 8 fields, saw 9\n",
      "Skipping line 227933: expected 8 fields, saw 11\n",
      "Skipping line 228957: expected 8 fields, saw 10\n",
      "Skipping line 245933: expected 8 fields, saw 9\n",
      "Skipping line 251296: expected 8 fields, saw 9\n",
      "Skipping line 259941: expected 8 fields, saw 9\n",
      "Skipping line 261529: expected 8 fields, saw 9\n",
      "\n"
     ]
    }
   ],
   "source": [
    "book = pd.read_csv('BX-Books.csv', sep=';', error_bad_lines=False, encoding=\"latin-1\")\n",
    "book.columns = ['ISBN', 'bookTitle', 'bookAuthor', 'yearOfPublication', 'publisher', 'imageUrlS', 'imageUrlM', 'imageUrlL']\n",
    "user = pd.read_csv('BX-Users.csv', sep=';', error_bad_lines=False, encoding=\"latin-1\")\n",
    "user.columns = ['userID', 'Location', 'Age']\n",
    "rating = pd.read_csv('BX-Book-Ratings.csv', sep=';', error_bad_lines=False, encoding=\"latin-1\")\n",
    "rating.columns = ['userID', 'ISBN', 'bookRating']"
   ]
  },
  {
   "cell_type": "code",
   "execution_count": 173,
   "metadata": {
    "collapsed": false
   },
   "outputs": [
    {
     "name": "stdout",
     "output_type": "stream",
     "text": [
      "105283\n",
      "340556\n"
     ]
    }
   ],
   "source": [
    "print rating['userID'].unique().shape[0]\n",
    "print rating['ISBN'].unique().shape[0]"
   ]
  },
  {
   "cell_type": "code",
   "execution_count": 174,
   "metadata": {
    "collapsed": false
   },
   "outputs": [
    {
     "name": "stdout",
     "output_type": "stream",
     "text": [
      "Number of unique users is 105283\n",
      "Number of unique book is 340556\n"
     ]
    }
   ],
   "source": [
    "print 'Number of unique users is',rating['userID'].unique().shape[0]\n",
    "print 'Number of unique book is',rating['ISBN'].unique().shape[0]"
   ]
  },
  {
   "cell_type": "code",
   "execution_count": 175,
   "metadata": {
    "collapsed": false
   },
   "outputs": [],
   "source": [
    "# rating['userID'].value_counts()"
   ]
  },
  {
   "cell_type": "code",
   "execution_count": 176,
   "metadata": {
    "collapsed": false
   },
   "outputs": [
    {
     "data": {
      "text/plain": [
       "userID        0\n",
       "ISBN          0\n",
       "bookRating    0\n",
       "dtype: int64"
      ]
     },
     "execution_count": 176,
     "metadata": {},
     "output_type": "execute_result"
    }
   ],
   "source": [
    "#check missing value\n",
    "np.sum(rating.isnull())"
   ]
  },
  {
   "cell_type": "code",
   "execution_count": 177,
   "metadata": {
    "collapsed": false
   },
   "outputs": [
    {
     "data": {
      "text/plain": [
       "0"
      ]
     },
     "execution_count": 177,
     "metadata": {},
     "output_type": "execute_result"
    }
   ],
   "source": [
    "np.sum(rating.duplicated())"
   ]
  },
  {
   "cell_type": "code",
   "execution_count": 178,
   "metadata": {
    "collapsed": false
   },
   "outputs": [],
   "source": [
    "rating2=rating.copy()"
   ]
  },
  {
   "cell_type": "code",
   "execution_count": 179,
   "metadata": {
    "collapsed": true
   },
   "outputs": [],
   "source": [
    "rating2=rating2[rating2['bookRating']!=0]"
   ]
  },
  {
   "cell_type": "code",
   "execution_count": 180,
   "metadata": {
    "collapsed": false
   },
   "outputs": [
    {
     "data": {
      "text/html": [
       "<div>\n",
       "<table border=\"1\" class=\"dataframe\">\n",
       "  <thead>\n",
       "    <tr style=\"text-align: right;\">\n",
       "      <th></th>\n",
       "      <th>userID</th>\n",
       "      <th>ISBN</th>\n",
       "      <th>bookRating</th>\n",
       "    </tr>\n",
       "  </thead>\n",
       "  <tbody>\n",
       "    <tr>\n",
       "      <th>1</th>\n",
       "      <td>276726</td>\n",
       "      <td>0155061224</td>\n",
       "      <td>5</td>\n",
       "    </tr>\n",
       "    <tr>\n",
       "      <th>3</th>\n",
       "      <td>276729</td>\n",
       "      <td>052165615X</td>\n",
       "      <td>3</td>\n",
       "    </tr>\n",
       "    <tr>\n",
       "      <th>4</th>\n",
       "      <td>276729</td>\n",
       "      <td>0521795028</td>\n",
       "      <td>6</td>\n",
       "    </tr>\n",
       "    <tr>\n",
       "      <th>6</th>\n",
       "      <td>276736</td>\n",
       "      <td>3257224281</td>\n",
       "      <td>8</td>\n",
       "    </tr>\n",
       "    <tr>\n",
       "      <th>7</th>\n",
       "      <td>276737</td>\n",
       "      <td>0600570967</td>\n",
       "      <td>6</td>\n",
       "    </tr>\n",
       "  </tbody>\n",
       "</table>\n",
       "</div>"
      ],
      "text/plain": [
       "   userID        ISBN  bookRating\n",
       "1  276726  0155061224           5\n",
       "3  276729  052165615X           3\n",
       "4  276729  0521795028           6\n",
       "6  276736  3257224281           8\n",
       "7  276737  0600570967           6"
      ]
     },
     "execution_count": 180,
     "metadata": {},
     "output_type": "execute_result"
    }
   ],
   "source": [
    "rating2.head()"
   ]
  },
  {
   "cell_type": "code",
   "execution_count": 181,
   "metadata": {
    "collapsed": false
   },
   "outputs": [],
   "source": [
    "# rating2.groupby('userID')['bookRating'].mean().to_frame()"
   ]
  },
  {
   "cell_type": "code",
   "execution_count": 182,
   "metadata": {
    "collapsed": false
   },
   "outputs": [],
   "source": [
    "# rating2=rating2.merge(rating2.groupby('userID')['bookRating'].mean().to_frame().reset_index(),left_index=True,right_index=True,suffixes =['',' user_avg'],how='left')\n",
    "# rating2=rating2.merge(rating2.groupby('ISBN')['bookRating'].mean().to_frame().reset_index(),left_on='ISBN',right_on='ISBN',suffixes =['',' book_avg'],how='left')\n",
    "# rating2=rating2.merge(rating2.groupby('userID')['bookRating'].count().to_frame().reset_index(),left_index=True,right_index=True,suffixes =['',' user_review_count'],how='left')\n",
    "# rating2=rating2.merge(rating2.groupby('ISBN')['bookRating'].count().to_frame().reset_index(),left_on='ISBN',right_on='ISBN',suffixes =['',' book_review_count'],how='left')"
   ]
  },
  {
   "cell_type": "code",
   "execution_count": 183,
   "metadata": {
    "collapsed": true
   },
   "outputs": [],
   "source": [
    "rating2=rating2.merge(rating2.groupby('userID')['bookRating'].mean().to_frame().reset_index(),left_on='userID',right_on='userID',suffixes =['',' user_avg'],how='left')\n",
    "rating2=rating2.merge(rating2.groupby('userID')['bookRating'].count().to_frame().reset_index(),left_on='userID',right_on='userID',suffixes =['',' user_review_count'],how='left')"
   ]
  },
  {
   "cell_type": "code",
   "execution_count": 184,
   "metadata": {
    "collapsed": true
   },
   "outputs": [],
   "source": [
    "rating2=rating2.merge(rating2.groupby('ISBN')['bookRating'].mean().to_frame().reset_index(),left_on='ISBN',right_on='ISBN',suffixes =['',' book_avg'],how='left')\n",
    "rating2=rating2.merge(rating2.groupby('ISBN')['bookRating'].count().to_frame().reset_index(),left_on='ISBN',right_on='ISBN',suffixes =['',' book_review_count'],how='left')"
   ]
  },
  {
   "cell_type": "code",
   "execution_count": 185,
   "metadata": {
    "collapsed": false
   },
   "outputs": [
    {
     "data": {
      "text/plain": [
       "(433671, 7)"
      ]
     },
     "execution_count": 185,
     "metadata": {},
     "output_type": "execute_result"
    }
   ],
   "source": [
    "rating2.shape"
   ]
  },
  {
   "cell_type": "code",
   "execution_count": 186,
   "metadata": {
    "collapsed": false,
    "scrolled": true
   },
   "outputs": [
    {
     "data": {
      "text/html": [
       "<div>\n",
       "<table border=\"1\" class=\"dataframe\">\n",
       "  <thead>\n",
       "    <tr style=\"text-align: right;\">\n",
       "      <th></th>\n",
       "      <th>userID</th>\n",
       "      <th>ISBN</th>\n",
       "      <th>bookRating</th>\n",
       "      <th>bookRating user_avg</th>\n",
       "      <th>bookRating user_review_count</th>\n",
       "      <th>bookRating book_avg</th>\n",
       "      <th>bookRating book_review_count</th>\n",
       "    </tr>\n",
       "  </thead>\n",
       "  <tbody>\n",
       "    <tr>\n",
       "      <th>0</th>\n",
       "      <td>276726</td>\n",
       "      <td>0155061224</td>\n",
       "      <td>5</td>\n",
       "      <td>5.000000</td>\n",
       "      <td>1</td>\n",
       "      <td>5.000000</td>\n",
       "      <td>1</td>\n",
       "    </tr>\n",
       "    <tr>\n",
       "      <th>1</th>\n",
       "      <td>276729</td>\n",
       "      <td>052165615X</td>\n",
       "      <td>3</td>\n",
       "      <td>4.500000</td>\n",
       "      <td>2</td>\n",
       "      <td>3.000000</td>\n",
       "      <td>1</td>\n",
       "    </tr>\n",
       "    <tr>\n",
       "      <th>2</th>\n",
       "      <td>276729</td>\n",
       "      <td>0521795028</td>\n",
       "      <td>6</td>\n",
       "      <td>4.500000</td>\n",
       "      <td>2</td>\n",
       "      <td>6.000000</td>\n",
       "      <td>1</td>\n",
       "    </tr>\n",
       "    <tr>\n",
       "      <th>3</th>\n",
       "      <td>276736</td>\n",
       "      <td>3257224281</td>\n",
       "      <td>8</td>\n",
       "      <td>8.000000</td>\n",
       "      <td>1</td>\n",
       "      <td>6.750000</td>\n",
       "      <td>4</td>\n",
       "    </tr>\n",
       "    <tr>\n",
       "      <th>4</th>\n",
       "      <td>276737</td>\n",
       "      <td>0600570967</td>\n",
       "      <td>6</td>\n",
       "      <td>6.000000</td>\n",
       "      <td>1</td>\n",
       "      <td>6.000000</td>\n",
       "      <td>1</td>\n",
       "    </tr>\n",
       "    <tr>\n",
       "      <th>5</th>\n",
       "      <td>276744</td>\n",
       "      <td>038550120X</td>\n",
       "      <td>7</td>\n",
       "      <td>7.000000</td>\n",
       "      <td>1</td>\n",
       "      <td>7.580247</td>\n",
       "      <td>81</td>\n",
       "    </tr>\n",
       "    <tr>\n",
       "      <th>6</th>\n",
       "      <td>276745</td>\n",
       "      <td>342310538</td>\n",
       "      <td>10</td>\n",
       "      <td>10.000000</td>\n",
       "      <td>1</td>\n",
       "      <td>10.000000</td>\n",
       "      <td>1</td>\n",
       "    </tr>\n",
       "    <tr>\n",
       "      <th>7</th>\n",
       "      <td>276747</td>\n",
       "      <td>0060517794</td>\n",
       "      <td>9</td>\n",
       "      <td>8.000000</td>\n",
       "      <td>5</td>\n",
       "      <td>8.000000</td>\n",
       "      <td>30</td>\n",
       "    </tr>\n",
       "    <tr>\n",
       "      <th>8</th>\n",
       "      <td>276747</td>\n",
       "      <td>0671537458</td>\n",
       "      <td>9</td>\n",
       "      <td>8.000000</td>\n",
       "      <td>5</td>\n",
       "      <td>7.176471</td>\n",
       "      <td>17</td>\n",
       "    </tr>\n",
       "    <tr>\n",
       "      <th>9</th>\n",
       "      <td>276747</td>\n",
       "      <td>0679776818</td>\n",
       "      <td>8</td>\n",
       "      <td>8.000000</td>\n",
       "      <td>5</td>\n",
       "      <td>7.476190</td>\n",
       "      <td>21</td>\n",
       "    </tr>\n",
       "    <tr>\n",
       "      <th>10</th>\n",
       "      <td>276747</td>\n",
       "      <td>0943066433</td>\n",
       "      <td>7</td>\n",
       "      <td>8.000000</td>\n",
       "      <td>5</td>\n",
       "      <td>7.000000</td>\n",
       "      <td>1</td>\n",
       "    </tr>\n",
       "    <tr>\n",
       "      <th>11</th>\n",
       "      <td>276747</td>\n",
       "      <td>1885408226</td>\n",
       "      <td>7</td>\n",
       "      <td>8.000000</td>\n",
       "      <td>5</td>\n",
       "      <td>7.000000</td>\n",
       "      <td>1</td>\n",
       "    </tr>\n",
       "    <tr>\n",
       "      <th>12</th>\n",
       "      <td>276748</td>\n",
       "      <td>0747558167</td>\n",
       "      <td>6</td>\n",
       "      <td>6.000000</td>\n",
       "      <td>1</td>\n",
       "      <td>7.500000</td>\n",
       "      <td>2</td>\n",
       "    </tr>\n",
       "    <tr>\n",
       "      <th>13</th>\n",
       "      <td>276751</td>\n",
       "      <td>3596218098</td>\n",
       "      <td>8</td>\n",
       "      <td>8.000000</td>\n",
       "      <td>1</td>\n",
       "      <td>8.000000</td>\n",
       "      <td>1</td>\n",
       "    </tr>\n",
       "    <tr>\n",
       "      <th>14</th>\n",
       "      <td>276754</td>\n",
       "      <td>0684867621</td>\n",
       "      <td>8</td>\n",
       "      <td>8.000000</td>\n",
       "      <td>1</td>\n",
       "      <td>7.116667</td>\n",
       "      <td>60</td>\n",
       "    </tr>\n",
       "    <tr>\n",
       "      <th>15</th>\n",
       "      <td>276755</td>\n",
       "      <td>0451166892</td>\n",
       "      <td>5</td>\n",
       "      <td>5.000000</td>\n",
       "      <td>1</td>\n",
       "      <td>8.390805</td>\n",
       "      <td>87</td>\n",
       "    </tr>\n",
       "    <tr>\n",
       "      <th>16</th>\n",
       "      <td>276760</td>\n",
       "      <td>8440682697</td>\n",
       "      <td>10</td>\n",
       "      <td>10.000000</td>\n",
       "      <td>1</td>\n",
       "      <td>10.000000</td>\n",
       "      <td>1</td>\n",
       "    </tr>\n",
       "    <tr>\n",
       "      <th>17</th>\n",
       "      <td>276762</td>\n",
       "      <td>0380711524</td>\n",
       "      <td>5</td>\n",
       "      <td>5.000000</td>\n",
       "      <td>4</td>\n",
       "      <td>7.625000</td>\n",
       "      <td>16</td>\n",
       "    </tr>\n",
       "    <tr>\n",
       "      <th>18</th>\n",
       "      <td>276762</td>\n",
       "      <td>3453092007</td>\n",
       "      <td>8</td>\n",
       "      <td>5.000000</td>\n",
       "      <td>4</td>\n",
       "      <td>8.000000</td>\n",
       "      <td>3</td>\n",
       "    </tr>\n",
       "    <tr>\n",
       "      <th>19</th>\n",
       "      <td>276762</td>\n",
       "      <td>3453213025</td>\n",
       "      <td>3</td>\n",
       "      <td>5.000000</td>\n",
       "      <td>4</td>\n",
       "      <td>3.000000</td>\n",
       "      <td>1</td>\n",
       "    </tr>\n",
       "    <tr>\n",
       "      <th>20</th>\n",
       "      <td>276762</td>\n",
       "      <td>N3453124715</td>\n",
       "      <td>4</td>\n",
       "      <td>5.000000</td>\n",
       "      <td>4</td>\n",
       "      <td>4.000000</td>\n",
       "      <td>1</td>\n",
       "    </tr>\n",
       "    <tr>\n",
       "      <th>21</th>\n",
       "      <td>276768</td>\n",
       "      <td>9057868059</td>\n",
       "      <td>4</td>\n",
       "      <td>4.000000</td>\n",
       "      <td>1</td>\n",
       "      <td>4.000000</td>\n",
       "      <td>1</td>\n",
       "    </tr>\n",
       "    <tr>\n",
       "      <th>22</th>\n",
       "      <td>276772</td>\n",
       "      <td>0553572369</td>\n",
       "      <td>7</td>\n",
       "      <td>9.000000</td>\n",
       "      <td>3</td>\n",
       "      <td>6.625000</td>\n",
       "      <td>8</td>\n",
       "    </tr>\n",
       "    <tr>\n",
       "      <th>23</th>\n",
       "      <td>276772</td>\n",
       "      <td>3499230933</td>\n",
       "      <td>10</td>\n",
       "      <td>9.000000</td>\n",
       "      <td>3</td>\n",
       "      <td>7.166667</td>\n",
       "      <td>6</td>\n",
       "    </tr>\n",
       "    <tr>\n",
       "      <th>24</th>\n",
       "      <td>276772</td>\n",
       "      <td>3596151465</td>\n",
       "      <td>10</td>\n",
       "      <td>9.000000</td>\n",
       "      <td>3</td>\n",
       "      <td>7.500000</td>\n",
       "      <td>2</td>\n",
       "    </tr>\n",
       "    <tr>\n",
       "      <th>25</th>\n",
       "      <td>276774</td>\n",
       "      <td>3442136644</td>\n",
       "      <td>9</td>\n",
       "      <td>9.000000</td>\n",
       "      <td>1</td>\n",
       "      <td>8.333333</td>\n",
       "      <td>3</td>\n",
       "    </tr>\n",
       "    <tr>\n",
       "      <th>26</th>\n",
       "      <td>276780</td>\n",
       "      <td>8484330478</td>\n",
       "      <td>7</td>\n",
       "      <td>7.000000</td>\n",
       "      <td>2</td>\n",
       "      <td>7.000000</td>\n",
       "      <td>1</td>\n",
       "    </tr>\n",
       "    <tr>\n",
       "      <th>27</th>\n",
       "      <td>276780</td>\n",
       "      <td>8484332039</td>\n",
       "      <td>7</td>\n",
       "      <td>7.000000</td>\n",
       "      <td>2</td>\n",
       "      <td>7.000000</td>\n",
       "      <td>1</td>\n",
       "    </tr>\n",
       "    <tr>\n",
       "      <th>28</th>\n",
       "      <td>276786</td>\n",
       "      <td>2864322102</td>\n",
       "      <td>6</td>\n",
       "      <td>6.500000</td>\n",
       "      <td>4</td>\n",
       "      <td>6.000000</td>\n",
       "      <td>1</td>\n",
       "    </tr>\n",
       "    <tr>\n",
       "      <th>29</th>\n",
       "      <td>276786</td>\n",
       "      <td>8437606322</td>\n",
       "      <td>8</td>\n",
       "      <td>6.500000</td>\n",
       "      <td>4</td>\n",
       "      <td>8.000000</td>\n",
       "      <td>2</td>\n",
       "    </tr>\n",
       "    <tr>\n",
       "      <th>...</th>\n",
       "      <td>...</td>\n",
       "      <td>...</td>\n",
       "      <td>...</td>\n",
       "      <td>...</td>\n",
       "      <td>...</td>\n",
       "      <td>...</td>\n",
       "      <td>...</td>\n",
       "    </tr>\n",
       "    <tr>\n",
       "      <th>433641</th>\n",
       "      <td>276688</td>\n",
       "      <td>0425156737</td>\n",
       "      <td>2</td>\n",
       "      <td>7.724138</td>\n",
       "      <td>29</td>\n",
       "      <td>2.000000</td>\n",
       "      <td>1</td>\n",
       "    </tr>\n",
       "    <tr>\n",
       "      <th>433642</th>\n",
       "      <td>276688</td>\n",
       "      <td>044661193X</td>\n",
       "      <td>7</td>\n",
       "      <td>7.724138</td>\n",
       "      <td>29</td>\n",
       "      <td>7.512821</td>\n",
       "      <td>39</td>\n",
       "    </tr>\n",
       "    <tr>\n",
       "      <th>433643</th>\n",
       "      <td>276688</td>\n",
       "      <td>0553074938</td>\n",
       "      <td>8</td>\n",
       "      <td>7.724138</td>\n",
       "      <td>29</td>\n",
       "      <td>7.500000</td>\n",
       "      <td>2</td>\n",
       "    </tr>\n",
       "    <tr>\n",
       "      <th>433644</th>\n",
       "      <td>276688</td>\n",
       "      <td>0553074946</td>\n",
       "      <td>9</td>\n",
       "      <td>7.724138</td>\n",
       "      <td>29</td>\n",
       "      <td>7.500000</td>\n",
       "      <td>2</td>\n",
       "    </tr>\n",
       "    <tr>\n",
       "      <th>433645</th>\n",
       "      <td>276688</td>\n",
       "      <td>0553088467</td>\n",
       "      <td>8</td>\n",
       "      <td>7.724138</td>\n",
       "      <td>29</td>\n",
       "      <td>8.500000</td>\n",
       "      <td>2</td>\n",
       "    </tr>\n",
       "    <tr>\n",
       "      <th>433646</th>\n",
       "      <td>276688</td>\n",
       "      <td>0553089234</td>\n",
       "      <td>10</td>\n",
       "      <td>7.724138</td>\n",
       "      <td>29</td>\n",
       "      <td>7.750000</td>\n",
       "      <td>8</td>\n",
       "    </tr>\n",
       "    <tr>\n",
       "      <th>433647</th>\n",
       "      <td>276688</td>\n",
       "      <td>0553566040</td>\n",
       "      <td>6</td>\n",
       "      <td>7.724138</td>\n",
       "      <td>29</td>\n",
       "      <td>8.000000</td>\n",
       "      <td>20</td>\n",
       "    </tr>\n",
       "    <tr>\n",
       "      <th>433648</th>\n",
       "      <td>276688</td>\n",
       "      <td>0553572512</td>\n",
       "      <td>7</td>\n",
       "      <td>7.724138</td>\n",
       "      <td>29</td>\n",
       "      <td>7.411765</td>\n",
       "      <td>17</td>\n",
       "    </tr>\n",
       "    <tr>\n",
       "      <th>433649</th>\n",
       "      <td>276688</td>\n",
       "      <td>0553575090</td>\n",
       "      <td>7</td>\n",
       "      <td>7.724138</td>\n",
       "      <td>29</td>\n",
       "      <td>7.937500</td>\n",
       "      <td>16</td>\n",
       "    </tr>\n",
       "    <tr>\n",
       "      <th>433650</th>\n",
       "      <td>276688</td>\n",
       "      <td>0553575104</td>\n",
       "      <td>6</td>\n",
       "      <td>7.724138</td>\n",
       "      <td>29</td>\n",
       "      <td>7.300000</td>\n",
       "      <td>20</td>\n",
       "    </tr>\n",
       "    <tr>\n",
       "      <th>433651</th>\n",
       "      <td>276688</td>\n",
       "      <td>0671015591</td>\n",
       "      <td>2</td>\n",
       "      <td>7.724138</td>\n",
       "      <td>29</td>\n",
       "      <td>5.500000</td>\n",
       "      <td>2</td>\n",
       "    </tr>\n",
       "    <tr>\n",
       "      <th>433652</th>\n",
       "      <td>276688</td>\n",
       "      <td>0671563149</td>\n",
       "      <td>6</td>\n",
       "      <td>7.724138</td>\n",
       "      <td>29</td>\n",
       "      <td>6.000000</td>\n",
       "      <td>1</td>\n",
       "    </tr>\n",
       "    <tr>\n",
       "      <th>433653</th>\n",
       "      <td>276688</td>\n",
       "      <td>0684195569</td>\n",
       "      <td>10</td>\n",
       "      <td>7.724138</td>\n",
       "      <td>29</td>\n",
       "      <td>9.000000</td>\n",
       "      <td>4</td>\n",
       "    </tr>\n",
       "    <tr>\n",
       "      <th>433654</th>\n",
       "      <td>276688</td>\n",
       "      <td>0684804484</td>\n",
       "      <td>10</td>\n",
       "      <td>7.724138</td>\n",
       "      <td>29</td>\n",
       "      <td>6.750000</td>\n",
       "      <td>4</td>\n",
       "    </tr>\n",
       "    <tr>\n",
       "      <th>433655</th>\n",
       "      <td>276688</td>\n",
       "      <td>0688156134</td>\n",
       "      <td>8</td>\n",
       "      <td>7.724138</td>\n",
       "      <td>29</td>\n",
       "      <td>7.000000</td>\n",
       "      <td>16</td>\n",
       "    </tr>\n",
       "    <tr>\n",
       "      <th>433656</th>\n",
       "      <td>276688</td>\n",
       "      <td>0743202694</td>\n",
       "      <td>10</td>\n",
       "      <td>7.724138</td>\n",
       "      <td>29</td>\n",
       "      <td>7.777778</td>\n",
       "      <td>9</td>\n",
       "    </tr>\n",
       "    <tr>\n",
       "      <th>433657</th>\n",
       "      <td>276688</td>\n",
       "      <td>0786011157</td>\n",
       "      <td>7</td>\n",
       "      <td>7.724138</td>\n",
       "      <td>29</td>\n",
       "      <td>7.000000</td>\n",
       "      <td>2</td>\n",
       "    </tr>\n",
       "    <tr>\n",
       "      <th>433658</th>\n",
       "      <td>276688</td>\n",
       "      <td>0836218655</td>\n",
       "      <td>10</td>\n",
       "      <td>7.724138</td>\n",
       "      <td>29</td>\n",
       "      <td>8.086957</td>\n",
       "      <td>23</td>\n",
       "    </tr>\n",
       "    <tr>\n",
       "      <th>433659</th>\n",
       "      <td>276688</td>\n",
       "      <td>0836236688</td>\n",
       "      <td>10</td>\n",
       "      <td>7.724138</td>\n",
       "      <td>29</td>\n",
       "      <td>8.333333</td>\n",
       "      <td>15</td>\n",
       "    </tr>\n",
       "    <tr>\n",
       "      <th>433660</th>\n",
       "      <td>276688</td>\n",
       "      <td>0892966548</td>\n",
       "      <td>10</td>\n",
       "      <td>7.724138</td>\n",
       "      <td>29</td>\n",
       "      <td>8.000000</td>\n",
       "      <td>4</td>\n",
       "    </tr>\n",
       "    <tr>\n",
       "      <th>433661</th>\n",
       "      <td>276688</td>\n",
       "      <td>1551669315</td>\n",
       "      <td>6</td>\n",
       "      <td>7.724138</td>\n",
       "      <td>29</td>\n",
       "      <td>7.200000</td>\n",
       "      <td>5</td>\n",
       "    </tr>\n",
       "    <tr>\n",
       "      <th>433662</th>\n",
       "      <td>276688</td>\n",
       "      <td>1575660792</td>\n",
       "      <td>7</td>\n",
       "      <td>7.724138</td>\n",
       "      <td>29</td>\n",
       "      <td>7.000000</td>\n",
       "      <td>1</td>\n",
       "    </tr>\n",
       "    <tr>\n",
       "      <th>433663</th>\n",
       "      <td>276704</td>\n",
       "      <td>0345386108</td>\n",
       "      <td>6</td>\n",
       "      <td>6.400000</td>\n",
       "      <td>5</td>\n",
       "      <td>6.852941</td>\n",
       "      <td>34</td>\n",
       "    </tr>\n",
       "    <tr>\n",
       "      <th>433664</th>\n",
       "      <td>276704</td>\n",
       "      <td>0380796155</td>\n",
       "      <td>5</td>\n",
       "      <td>6.400000</td>\n",
       "      <td>5</td>\n",
       "      <td>5.000000</td>\n",
       "      <td>1</td>\n",
       "    </tr>\n",
       "    <tr>\n",
       "      <th>433665</th>\n",
       "      <td>276704</td>\n",
       "      <td>0743211383</td>\n",
       "      <td>7</td>\n",
       "      <td>6.400000</td>\n",
       "      <td>5</td>\n",
       "      <td>6.964912</td>\n",
       "      <td>57</td>\n",
       "    </tr>\n",
       "    <tr>\n",
       "      <th>433666</th>\n",
       "      <td>276704</td>\n",
       "      <td>0806917695</td>\n",
       "      <td>5</td>\n",
       "      <td>6.400000</td>\n",
       "      <td>5</td>\n",
       "      <td>5.000000</td>\n",
       "      <td>1</td>\n",
       "    </tr>\n",
       "    <tr>\n",
       "      <th>433667</th>\n",
       "      <td>276704</td>\n",
       "      <td>1563526298</td>\n",
       "      <td>9</td>\n",
       "      <td>6.400000</td>\n",
       "      <td>5</td>\n",
       "      <td>7.000000</td>\n",
       "      <td>3</td>\n",
       "    </tr>\n",
       "    <tr>\n",
       "      <th>433668</th>\n",
       "      <td>276709</td>\n",
       "      <td>0515107662</td>\n",
       "      <td>10</td>\n",
       "      <td>10.000000</td>\n",
       "      <td>1</td>\n",
       "      <td>8.444444</td>\n",
       "      <td>18</td>\n",
       "    </tr>\n",
       "    <tr>\n",
       "      <th>433669</th>\n",
       "      <td>276721</td>\n",
       "      <td>0590442449</td>\n",
       "      <td>10</td>\n",
       "      <td>10.000000</td>\n",
       "      <td>1</td>\n",
       "      <td>9.000000</td>\n",
       "      <td>2</td>\n",
       "    </tr>\n",
       "    <tr>\n",
       "      <th>433670</th>\n",
       "      <td>276723</td>\n",
       "      <td>05162443314</td>\n",
       "      <td>8</td>\n",
       "      <td>8.000000</td>\n",
       "      <td>1</td>\n",
       "      <td>8.000000</td>\n",
       "      <td>1</td>\n",
       "    </tr>\n",
       "  </tbody>\n",
       "</table>\n",
       "<p>433671 rows × 7 columns</p>\n",
       "</div>"
      ],
      "text/plain": [
       "        userID         ISBN  bookRating  bookRating user_avg  bookRating user_review_count  bookRating book_avg  bookRating book_review_count\n",
       "0       276726   0155061224           5             5.000000                             1             5.000000                             1\n",
       "1       276729   052165615X           3             4.500000                             2             3.000000                             1\n",
       "2       276729   0521795028           6             4.500000                             2             6.000000                             1\n",
       "3       276736   3257224281           8             8.000000                             1             6.750000                             4\n",
       "4       276737   0600570967           6             6.000000                             1             6.000000                             1\n",
       "5       276744   038550120X           7             7.000000                             1             7.580247                            81\n",
       "6       276745    342310538          10            10.000000                             1            10.000000                             1\n",
       "7       276747   0060517794           9             8.000000                             5             8.000000                            30\n",
       "8       276747   0671537458           9             8.000000                             5             7.176471                            17\n",
       "9       276747   0679776818           8             8.000000                             5             7.476190                            21\n",
       "10      276747   0943066433           7             8.000000                             5             7.000000                             1\n",
       "11      276747   1885408226           7             8.000000                             5             7.000000                             1\n",
       "12      276748   0747558167           6             6.000000                             1             7.500000                             2\n",
       "13      276751   3596218098           8             8.000000                             1             8.000000                             1\n",
       "14      276754   0684867621           8             8.000000                             1             7.116667                            60\n",
       "15      276755   0451166892           5             5.000000                             1             8.390805                            87\n",
       "16      276760   8440682697          10            10.000000                             1            10.000000                             1\n",
       "17      276762   0380711524           5             5.000000                             4             7.625000                            16\n",
       "18      276762   3453092007           8             5.000000                             4             8.000000                             3\n",
       "19      276762   3453213025           3             5.000000                             4             3.000000                             1\n",
       "20      276762  N3453124715           4             5.000000                             4             4.000000                             1\n",
       "21      276768   9057868059           4             4.000000                             1             4.000000                             1\n",
       "22      276772   0553572369           7             9.000000                             3             6.625000                             8\n",
       "23      276772   3499230933          10             9.000000                             3             7.166667                             6\n",
       "24      276772   3596151465          10             9.000000                             3             7.500000                             2\n",
       "25      276774   3442136644           9             9.000000                             1             8.333333                             3\n",
       "26      276780   8484330478           7             7.000000                             2             7.000000                             1\n",
       "27      276780   8484332039           7             7.000000                             2             7.000000                             1\n",
       "28      276786   2864322102           6             6.500000                             4             6.000000                             1\n",
       "29      276786   8437606322           8             6.500000                             4             8.000000                             2\n",
       "...        ...          ...         ...                  ...                           ...                  ...                           ...\n",
       "433641  276688   0425156737           2             7.724138                            29             2.000000                             1\n",
       "433642  276688   044661193X           7             7.724138                            29             7.512821                            39\n",
       "433643  276688   0553074938           8             7.724138                            29             7.500000                             2\n",
       "433644  276688   0553074946           9             7.724138                            29             7.500000                             2\n",
       "433645  276688   0553088467           8             7.724138                            29             8.500000                             2\n",
       "433646  276688   0553089234          10             7.724138                            29             7.750000                             8\n",
       "433647  276688   0553566040           6             7.724138                            29             8.000000                            20\n",
       "433648  276688   0553572512           7             7.724138                            29             7.411765                            17\n",
       "433649  276688   0553575090           7             7.724138                            29             7.937500                            16\n",
       "433650  276688   0553575104           6             7.724138                            29             7.300000                            20\n",
       "433651  276688   0671015591           2             7.724138                            29             5.500000                             2\n",
       "433652  276688   0671563149           6             7.724138                            29             6.000000                             1\n",
       "433653  276688   0684195569          10             7.724138                            29             9.000000                             4\n",
       "433654  276688   0684804484          10             7.724138                            29             6.750000                             4\n",
       "433655  276688   0688156134           8             7.724138                            29             7.000000                            16\n",
       "433656  276688   0743202694          10             7.724138                            29             7.777778                             9\n",
       "433657  276688   0786011157           7             7.724138                            29             7.000000                             2\n",
       "433658  276688   0836218655          10             7.724138                            29             8.086957                            23\n",
       "433659  276688   0836236688          10             7.724138                            29             8.333333                            15\n",
       "433660  276688   0892966548          10             7.724138                            29             8.000000                             4\n",
       "433661  276688   1551669315           6             7.724138                            29             7.200000                             5\n",
       "433662  276688   1575660792           7             7.724138                            29             7.000000                             1\n",
       "433663  276704   0345386108           6             6.400000                             5             6.852941                            34\n",
       "433664  276704   0380796155           5             6.400000                             5             5.000000                             1\n",
       "433665  276704   0743211383           7             6.400000                             5             6.964912                            57\n",
       "433666  276704   0806917695           5             6.400000                             5             5.000000                             1\n",
       "433667  276704   1563526298           9             6.400000                             5             7.000000                             3\n",
       "433668  276709   0515107662          10            10.000000                             1             8.444444                            18\n",
       "433669  276721   0590442449          10            10.000000                             1             9.000000                             2\n",
       "433670  276723  05162443314           8             8.000000                             1             8.000000                             1\n",
       "\n",
       "[433671 rows x 7 columns]"
      ]
     },
     "execution_count": 186,
     "metadata": {},
     "output_type": "execute_result"
    }
   ],
   "source": [
    "rating2"
   ]
  },
  {
   "cell_type": "code",
   "execution_count": 187,
   "metadata": {
    "collapsed": true
   },
   "outputs": [],
   "source": [
    "rating2.rename(columns={'bookRating user_avg':'user_avg'\n",
    "                        ,'bookRating book_avg':'book_avg'\n",
    "                       ,'bookRating user_review_count':'user_review_count'\n",
    "                       ,'bookRating book_review_count':'book_review_count'}, inplace=True)"
   ]
  },
  {
   "cell_type": "code",
   "execution_count": 188,
   "metadata": {
    "collapsed": false,
    "scrolled": true
   },
   "outputs": [
    {
     "data": {
      "text/html": [
       "<div>\n",
       "<table border=\"1\" class=\"dataframe\">\n",
       "  <thead>\n",
       "    <tr style=\"text-align: right;\">\n",
       "      <th></th>\n",
       "      <th>userID</th>\n",
       "      <th>ISBN</th>\n",
       "      <th>bookRating</th>\n",
       "      <th>user_avg</th>\n",
       "      <th>user_review_count</th>\n",
       "      <th>book_avg</th>\n",
       "      <th>book_review_count</th>\n",
       "    </tr>\n",
       "  </thead>\n",
       "  <tbody>\n",
       "    <tr>\n",
       "      <th>0</th>\n",
       "      <td>276726</td>\n",
       "      <td>0155061224</td>\n",
       "      <td>5</td>\n",
       "      <td>5.000000</td>\n",
       "      <td>1</td>\n",
       "      <td>5.000000</td>\n",
       "      <td>1</td>\n",
       "    </tr>\n",
       "    <tr>\n",
       "      <th>1</th>\n",
       "      <td>276729</td>\n",
       "      <td>052165615X</td>\n",
       "      <td>3</td>\n",
       "      <td>4.500000</td>\n",
       "      <td>2</td>\n",
       "      <td>3.000000</td>\n",
       "      <td>1</td>\n",
       "    </tr>\n",
       "    <tr>\n",
       "      <th>2</th>\n",
       "      <td>276729</td>\n",
       "      <td>0521795028</td>\n",
       "      <td>6</td>\n",
       "      <td>4.500000</td>\n",
       "      <td>2</td>\n",
       "      <td>6.000000</td>\n",
       "      <td>1</td>\n",
       "    </tr>\n",
       "    <tr>\n",
       "      <th>3</th>\n",
       "      <td>276736</td>\n",
       "      <td>3257224281</td>\n",
       "      <td>8</td>\n",
       "      <td>8.000000</td>\n",
       "      <td>1</td>\n",
       "      <td>6.750000</td>\n",
       "      <td>4</td>\n",
       "    </tr>\n",
       "    <tr>\n",
       "      <th>4</th>\n",
       "      <td>276737</td>\n",
       "      <td>0600570967</td>\n",
       "      <td>6</td>\n",
       "      <td>6.000000</td>\n",
       "      <td>1</td>\n",
       "      <td>6.000000</td>\n",
       "      <td>1</td>\n",
       "    </tr>\n",
       "    <tr>\n",
       "      <th>5</th>\n",
       "      <td>276744</td>\n",
       "      <td>038550120X</td>\n",
       "      <td>7</td>\n",
       "      <td>7.000000</td>\n",
       "      <td>1</td>\n",
       "      <td>7.580247</td>\n",
       "      <td>81</td>\n",
       "    </tr>\n",
       "    <tr>\n",
       "      <th>6</th>\n",
       "      <td>276745</td>\n",
       "      <td>342310538</td>\n",
       "      <td>10</td>\n",
       "      <td>10.000000</td>\n",
       "      <td>1</td>\n",
       "      <td>10.000000</td>\n",
       "      <td>1</td>\n",
       "    </tr>\n",
       "    <tr>\n",
       "      <th>7</th>\n",
       "      <td>276747</td>\n",
       "      <td>0060517794</td>\n",
       "      <td>9</td>\n",
       "      <td>8.000000</td>\n",
       "      <td>5</td>\n",
       "      <td>8.000000</td>\n",
       "      <td>30</td>\n",
       "    </tr>\n",
       "    <tr>\n",
       "      <th>8</th>\n",
       "      <td>276747</td>\n",
       "      <td>0671537458</td>\n",
       "      <td>9</td>\n",
       "      <td>8.000000</td>\n",
       "      <td>5</td>\n",
       "      <td>7.176471</td>\n",
       "      <td>17</td>\n",
       "    </tr>\n",
       "    <tr>\n",
       "      <th>9</th>\n",
       "      <td>276747</td>\n",
       "      <td>0679776818</td>\n",
       "      <td>8</td>\n",
       "      <td>8.000000</td>\n",
       "      <td>5</td>\n",
       "      <td>7.476190</td>\n",
       "      <td>21</td>\n",
       "    </tr>\n",
       "    <tr>\n",
       "      <th>10</th>\n",
       "      <td>276747</td>\n",
       "      <td>0943066433</td>\n",
       "      <td>7</td>\n",
       "      <td>8.000000</td>\n",
       "      <td>5</td>\n",
       "      <td>7.000000</td>\n",
       "      <td>1</td>\n",
       "    </tr>\n",
       "    <tr>\n",
       "      <th>11</th>\n",
       "      <td>276747</td>\n",
       "      <td>1885408226</td>\n",
       "      <td>7</td>\n",
       "      <td>8.000000</td>\n",
       "      <td>5</td>\n",
       "      <td>7.000000</td>\n",
       "      <td>1</td>\n",
       "    </tr>\n",
       "    <tr>\n",
       "      <th>12</th>\n",
       "      <td>276748</td>\n",
       "      <td>0747558167</td>\n",
       "      <td>6</td>\n",
       "      <td>6.000000</td>\n",
       "      <td>1</td>\n",
       "      <td>7.500000</td>\n",
       "      <td>2</td>\n",
       "    </tr>\n",
       "    <tr>\n",
       "      <th>13</th>\n",
       "      <td>276751</td>\n",
       "      <td>3596218098</td>\n",
       "      <td>8</td>\n",
       "      <td>8.000000</td>\n",
       "      <td>1</td>\n",
       "      <td>8.000000</td>\n",
       "      <td>1</td>\n",
       "    </tr>\n",
       "    <tr>\n",
       "      <th>14</th>\n",
       "      <td>276754</td>\n",
       "      <td>0684867621</td>\n",
       "      <td>8</td>\n",
       "      <td>8.000000</td>\n",
       "      <td>1</td>\n",
       "      <td>7.116667</td>\n",
       "      <td>60</td>\n",
       "    </tr>\n",
       "    <tr>\n",
       "      <th>15</th>\n",
       "      <td>276755</td>\n",
       "      <td>0451166892</td>\n",
       "      <td>5</td>\n",
       "      <td>5.000000</td>\n",
       "      <td>1</td>\n",
       "      <td>8.390805</td>\n",
       "      <td>87</td>\n",
       "    </tr>\n",
       "    <tr>\n",
       "      <th>16</th>\n",
       "      <td>276760</td>\n",
       "      <td>8440682697</td>\n",
       "      <td>10</td>\n",
       "      <td>10.000000</td>\n",
       "      <td>1</td>\n",
       "      <td>10.000000</td>\n",
       "      <td>1</td>\n",
       "    </tr>\n",
       "    <tr>\n",
       "      <th>17</th>\n",
       "      <td>276762</td>\n",
       "      <td>0380711524</td>\n",
       "      <td>5</td>\n",
       "      <td>5.000000</td>\n",
       "      <td>4</td>\n",
       "      <td>7.625000</td>\n",
       "      <td>16</td>\n",
       "    </tr>\n",
       "    <tr>\n",
       "      <th>18</th>\n",
       "      <td>276762</td>\n",
       "      <td>3453092007</td>\n",
       "      <td>8</td>\n",
       "      <td>5.000000</td>\n",
       "      <td>4</td>\n",
       "      <td>8.000000</td>\n",
       "      <td>3</td>\n",
       "    </tr>\n",
       "    <tr>\n",
       "      <th>19</th>\n",
       "      <td>276762</td>\n",
       "      <td>3453213025</td>\n",
       "      <td>3</td>\n",
       "      <td>5.000000</td>\n",
       "      <td>4</td>\n",
       "      <td>3.000000</td>\n",
       "      <td>1</td>\n",
       "    </tr>\n",
       "    <tr>\n",
       "      <th>20</th>\n",
       "      <td>276762</td>\n",
       "      <td>N3453124715</td>\n",
       "      <td>4</td>\n",
       "      <td>5.000000</td>\n",
       "      <td>4</td>\n",
       "      <td>4.000000</td>\n",
       "      <td>1</td>\n",
       "    </tr>\n",
       "    <tr>\n",
       "      <th>21</th>\n",
       "      <td>276768</td>\n",
       "      <td>9057868059</td>\n",
       "      <td>4</td>\n",
       "      <td>4.000000</td>\n",
       "      <td>1</td>\n",
       "      <td>4.000000</td>\n",
       "      <td>1</td>\n",
       "    </tr>\n",
       "    <tr>\n",
       "      <th>22</th>\n",
       "      <td>276772</td>\n",
       "      <td>0553572369</td>\n",
       "      <td>7</td>\n",
       "      <td>9.000000</td>\n",
       "      <td>3</td>\n",
       "      <td>6.625000</td>\n",
       "      <td>8</td>\n",
       "    </tr>\n",
       "    <tr>\n",
       "      <th>23</th>\n",
       "      <td>276772</td>\n",
       "      <td>3499230933</td>\n",
       "      <td>10</td>\n",
       "      <td>9.000000</td>\n",
       "      <td>3</td>\n",
       "      <td>7.166667</td>\n",
       "      <td>6</td>\n",
       "    </tr>\n",
       "    <tr>\n",
       "      <th>24</th>\n",
       "      <td>276772</td>\n",
       "      <td>3596151465</td>\n",
       "      <td>10</td>\n",
       "      <td>9.000000</td>\n",
       "      <td>3</td>\n",
       "      <td>7.500000</td>\n",
       "      <td>2</td>\n",
       "    </tr>\n",
       "    <tr>\n",
       "      <th>25</th>\n",
       "      <td>276774</td>\n",
       "      <td>3442136644</td>\n",
       "      <td>9</td>\n",
       "      <td>9.000000</td>\n",
       "      <td>1</td>\n",
       "      <td>8.333333</td>\n",
       "      <td>3</td>\n",
       "    </tr>\n",
       "    <tr>\n",
       "      <th>26</th>\n",
       "      <td>276780</td>\n",
       "      <td>8484330478</td>\n",
       "      <td>7</td>\n",
       "      <td>7.000000</td>\n",
       "      <td>2</td>\n",
       "      <td>7.000000</td>\n",
       "      <td>1</td>\n",
       "    </tr>\n",
       "    <tr>\n",
       "      <th>27</th>\n",
       "      <td>276780</td>\n",
       "      <td>8484332039</td>\n",
       "      <td>7</td>\n",
       "      <td>7.000000</td>\n",
       "      <td>2</td>\n",
       "      <td>7.000000</td>\n",
       "      <td>1</td>\n",
       "    </tr>\n",
       "    <tr>\n",
       "      <th>28</th>\n",
       "      <td>276786</td>\n",
       "      <td>2864322102</td>\n",
       "      <td>6</td>\n",
       "      <td>6.500000</td>\n",
       "      <td>4</td>\n",
       "      <td>6.000000</td>\n",
       "      <td>1</td>\n",
       "    </tr>\n",
       "    <tr>\n",
       "      <th>29</th>\n",
       "      <td>276786</td>\n",
       "      <td>8437606322</td>\n",
       "      <td>8</td>\n",
       "      <td>6.500000</td>\n",
       "      <td>4</td>\n",
       "      <td>8.000000</td>\n",
       "      <td>2</td>\n",
       "    </tr>\n",
       "    <tr>\n",
       "      <th>...</th>\n",
       "      <td>...</td>\n",
       "      <td>...</td>\n",
       "      <td>...</td>\n",
       "      <td>...</td>\n",
       "      <td>...</td>\n",
       "      <td>...</td>\n",
       "      <td>...</td>\n",
       "    </tr>\n",
       "    <tr>\n",
       "      <th>433641</th>\n",
       "      <td>276688</td>\n",
       "      <td>0425156737</td>\n",
       "      <td>2</td>\n",
       "      <td>7.724138</td>\n",
       "      <td>29</td>\n",
       "      <td>2.000000</td>\n",
       "      <td>1</td>\n",
       "    </tr>\n",
       "    <tr>\n",
       "      <th>433642</th>\n",
       "      <td>276688</td>\n",
       "      <td>044661193X</td>\n",
       "      <td>7</td>\n",
       "      <td>7.724138</td>\n",
       "      <td>29</td>\n",
       "      <td>7.512821</td>\n",
       "      <td>39</td>\n",
       "    </tr>\n",
       "    <tr>\n",
       "      <th>433643</th>\n",
       "      <td>276688</td>\n",
       "      <td>0553074938</td>\n",
       "      <td>8</td>\n",
       "      <td>7.724138</td>\n",
       "      <td>29</td>\n",
       "      <td>7.500000</td>\n",
       "      <td>2</td>\n",
       "    </tr>\n",
       "    <tr>\n",
       "      <th>433644</th>\n",
       "      <td>276688</td>\n",
       "      <td>0553074946</td>\n",
       "      <td>9</td>\n",
       "      <td>7.724138</td>\n",
       "      <td>29</td>\n",
       "      <td>7.500000</td>\n",
       "      <td>2</td>\n",
       "    </tr>\n",
       "    <tr>\n",
       "      <th>433645</th>\n",
       "      <td>276688</td>\n",
       "      <td>0553088467</td>\n",
       "      <td>8</td>\n",
       "      <td>7.724138</td>\n",
       "      <td>29</td>\n",
       "      <td>8.500000</td>\n",
       "      <td>2</td>\n",
       "    </tr>\n",
       "    <tr>\n",
       "      <th>433646</th>\n",
       "      <td>276688</td>\n",
       "      <td>0553089234</td>\n",
       "      <td>10</td>\n",
       "      <td>7.724138</td>\n",
       "      <td>29</td>\n",
       "      <td>7.750000</td>\n",
       "      <td>8</td>\n",
       "    </tr>\n",
       "    <tr>\n",
       "      <th>433647</th>\n",
       "      <td>276688</td>\n",
       "      <td>0553566040</td>\n",
       "      <td>6</td>\n",
       "      <td>7.724138</td>\n",
       "      <td>29</td>\n",
       "      <td>8.000000</td>\n",
       "      <td>20</td>\n",
       "    </tr>\n",
       "    <tr>\n",
       "      <th>433648</th>\n",
       "      <td>276688</td>\n",
       "      <td>0553572512</td>\n",
       "      <td>7</td>\n",
       "      <td>7.724138</td>\n",
       "      <td>29</td>\n",
       "      <td>7.411765</td>\n",
       "      <td>17</td>\n",
       "    </tr>\n",
       "    <tr>\n",
       "      <th>433649</th>\n",
       "      <td>276688</td>\n",
       "      <td>0553575090</td>\n",
       "      <td>7</td>\n",
       "      <td>7.724138</td>\n",
       "      <td>29</td>\n",
       "      <td>7.937500</td>\n",
       "      <td>16</td>\n",
       "    </tr>\n",
       "    <tr>\n",
       "      <th>433650</th>\n",
       "      <td>276688</td>\n",
       "      <td>0553575104</td>\n",
       "      <td>6</td>\n",
       "      <td>7.724138</td>\n",
       "      <td>29</td>\n",
       "      <td>7.300000</td>\n",
       "      <td>20</td>\n",
       "    </tr>\n",
       "    <tr>\n",
       "      <th>433651</th>\n",
       "      <td>276688</td>\n",
       "      <td>0671015591</td>\n",
       "      <td>2</td>\n",
       "      <td>7.724138</td>\n",
       "      <td>29</td>\n",
       "      <td>5.500000</td>\n",
       "      <td>2</td>\n",
       "    </tr>\n",
       "    <tr>\n",
       "      <th>433652</th>\n",
       "      <td>276688</td>\n",
       "      <td>0671563149</td>\n",
       "      <td>6</td>\n",
       "      <td>7.724138</td>\n",
       "      <td>29</td>\n",
       "      <td>6.000000</td>\n",
       "      <td>1</td>\n",
       "    </tr>\n",
       "    <tr>\n",
       "      <th>433653</th>\n",
       "      <td>276688</td>\n",
       "      <td>0684195569</td>\n",
       "      <td>10</td>\n",
       "      <td>7.724138</td>\n",
       "      <td>29</td>\n",
       "      <td>9.000000</td>\n",
       "      <td>4</td>\n",
       "    </tr>\n",
       "    <tr>\n",
       "      <th>433654</th>\n",
       "      <td>276688</td>\n",
       "      <td>0684804484</td>\n",
       "      <td>10</td>\n",
       "      <td>7.724138</td>\n",
       "      <td>29</td>\n",
       "      <td>6.750000</td>\n",
       "      <td>4</td>\n",
       "    </tr>\n",
       "    <tr>\n",
       "      <th>433655</th>\n",
       "      <td>276688</td>\n",
       "      <td>0688156134</td>\n",
       "      <td>8</td>\n",
       "      <td>7.724138</td>\n",
       "      <td>29</td>\n",
       "      <td>7.000000</td>\n",
       "      <td>16</td>\n",
       "    </tr>\n",
       "    <tr>\n",
       "      <th>433656</th>\n",
       "      <td>276688</td>\n",
       "      <td>0743202694</td>\n",
       "      <td>10</td>\n",
       "      <td>7.724138</td>\n",
       "      <td>29</td>\n",
       "      <td>7.777778</td>\n",
       "      <td>9</td>\n",
       "    </tr>\n",
       "    <tr>\n",
       "      <th>433657</th>\n",
       "      <td>276688</td>\n",
       "      <td>0786011157</td>\n",
       "      <td>7</td>\n",
       "      <td>7.724138</td>\n",
       "      <td>29</td>\n",
       "      <td>7.000000</td>\n",
       "      <td>2</td>\n",
       "    </tr>\n",
       "    <tr>\n",
       "      <th>433658</th>\n",
       "      <td>276688</td>\n",
       "      <td>0836218655</td>\n",
       "      <td>10</td>\n",
       "      <td>7.724138</td>\n",
       "      <td>29</td>\n",
       "      <td>8.086957</td>\n",
       "      <td>23</td>\n",
       "    </tr>\n",
       "    <tr>\n",
       "      <th>433659</th>\n",
       "      <td>276688</td>\n",
       "      <td>0836236688</td>\n",
       "      <td>10</td>\n",
       "      <td>7.724138</td>\n",
       "      <td>29</td>\n",
       "      <td>8.333333</td>\n",
       "      <td>15</td>\n",
       "    </tr>\n",
       "    <tr>\n",
       "      <th>433660</th>\n",
       "      <td>276688</td>\n",
       "      <td>0892966548</td>\n",
       "      <td>10</td>\n",
       "      <td>7.724138</td>\n",
       "      <td>29</td>\n",
       "      <td>8.000000</td>\n",
       "      <td>4</td>\n",
       "    </tr>\n",
       "    <tr>\n",
       "      <th>433661</th>\n",
       "      <td>276688</td>\n",
       "      <td>1551669315</td>\n",
       "      <td>6</td>\n",
       "      <td>7.724138</td>\n",
       "      <td>29</td>\n",
       "      <td>7.200000</td>\n",
       "      <td>5</td>\n",
       "    </tr>\n",
       "    <tr>\n",
       "      <th>433662</th>\n",
       "      <td>276688</td>\n",
       "      <td>1575660792</td>\n",
       "      <td>7</td>\n",
       "      <td>7.724138</td>\n",
       "      <td>29</td>\n",
       "      <td>7.000000</td>\n",
       "      <td>1</td>\n",
       "    </tr>\n",
       "    <tr>\n",
       "      <th>433663</th>\n",
       "      <td>276704</td>\n",
       "      <td>0345386108</td>\n",
       "      <td>6</td>\n",
       "      <td>6.400000</td>\n",
       "      <td>5</td>\n",
       "      <td>6.852941</td>\n",
       "      <td>34</td>\n",
       "    </tr>\n",
       "    <tr>\n",
       "      <th>433664</th>\n",
       "      <td>276704</td>\n",
       "      <td>0380796155</td>\n",
       "      <td>5</td>\n",
       "      <td>6.400000</td>\n",
       "      <td>5</td>\n",
       "      <td>5.000000</td>\n",
       "      <td>1</td>\n",
       "    </tr>\n",
       "    <tr>\n",
       "      <th>433665</th>\n",
       "      <td>276704</td>\n",
       "      <td>0743211383</td>\n",
       "      <td>7</td>\n",
       "      <td>6.400000</td>\n",
       "      <td>5</td>\n",
       "      <td>6.964912</td>\n",
       "      <td>57</td>\n",
       "    </tr>\n",
       "    <tr>\n",
       "      <th>433666</th>\n",
       "      <td>276704</td>\n",
       "      <td>0806917695</td>\n",
       "      <td>5</td>\n",
       "      <td>6.400000</td>\n",
       "      <td>5</td>\n",
       "      <td>5.000000</td>\n",
       "      <td>1</td>\n",
       "    </tr>\n",
       "    <tr>\n",
       "      <th>433667</th>\n",
       "      <td>276704</td>\n",
       "      <td>1563526298</td>\n",
       "      <td>9</td>\n",
       "      <td>6.400000</td>\n",
       "      <td>5</td>\n",
       "      <td>7.000000</td>\n",
       "      <td>3</td>\n",
       "    </tr>\n",
       "    <tr>\n",
       "      <th>433668</th>\n",
       "      <td>276709</td>\n",
       "      <td>0515107662</td>\n",
       "      <td>10</td>\n",
       "      <td>10.000000</td>\n",
       "      <td>1</td>\n",
       "      <td>8.444444</td>\n",
       "      <td>18</td>\n",
       "    </tr>\n",
       "    <tr>\n",
       "      <th>433669</th>\n",
       "      <td>276721</td>\n",
       "      <td>0590442449</td>\n",
       "      <td>10</td>\n",
       "      <td>10.000000</td>\n",
       "      <td>1</td>\n",
       "      <td>9.000000</td>\n",
       "      <td>2</td>\n",
       "    </tr>\n",
       "    <tr>\n",
       "      <th>433670</th>\n",
       "      <td>276723</td>\n",
       "      <td>05162443314</td>\n",
       "      <td>8</td>\n",
       "      <td>8.000000</td>\n",
       "      <td>1</td>\n",
       "      <td>8.000000</td>\n",
       "      <td>1</td>\n",
       "    </tr>\n",
       "  </tbody>\n",
       "</table>\n",
       "<p>433671 rows × 7 columns</p>\n",
       "</div>"
      ],
      "text/plain": [
       "        userID         ISBN  bookRating   user_avg  user_review_count   book_avg  book_review_count\n",
       "0       276726   0155061224           5   5.000000                  1   5.000000                  1\n",
       "1       276729   052165615X           3   4.500000                  2   3.000000                  1\n",
       "2       276729   0521795028           6   4.500000                  2   6.000000                  1\n",
       "3       276736   3257224281           8   8.000000                  1   6.750000                  4\n",
       "4       276737   0600570967           6   6.000000                  1   6.000000                  1\n",
       "5       276744   038550120X           7   7.000000                  1   7.580247                 81\n",
       "6       276745    342310538          10  10.000000                  1  10.000000                  1\n",
       "7       276747   0060517794           9   8.000000                  5   8.000000                 30\n",
       "8       276747   0671537458           9   8.000000                  5   7.176471                 17\n",
       "9       276747   0679776818           8   8.000000                  5   7.476190                 21\n",
       "10      276747   0943066433           7   8.000000                  5   7.000000                  1\n",
       "11      276747   1885408226           7   8.000000                  5   7.000000                  1\n",
       "12      276748   0747558167           6   6.000000                  1   7.500000                  2\n",
       "13      276751   3596218098           8   8.000000                  1   8.000000                  1\n",
       "14      276754   0684867621           8   8.000000                  1   7.116667                 60\n",
       "15      276755   0451166892           5   5.000000                  1   8.390805                 87\n",
       "16      276760   8440682697          10  10.000000                  1  10.000000                  1\n",
       "17      276762   0380711524           5   5.000000                  4   7.625000                 16\n",
       "18      276762   3453092007           8   5.000000                  4   8.000000                  3\n",
       "19      276762   3453213025           3   5.000000                  4   3.000000                  1\n",
       "20      276762  N3453124715           4   5.000000                  4   4.000000                  1\n",
       "21      276768   9057868059           4   4.000000                  1   4.000000                  1\n",
       "22      276772   0553572369           7   9.000000                  3   6.625000                  8\n",
       "23      276772   3499230933          10   9.000000                  3   7.166667                  6\n",
       "24      276772   3596151465          10   9.000000                  3   7.500000                  2\n",
       "25      276774   3442136644           9   9.000000                  1   8.333333                  3\n",
       "26      276780   8484330478           7   7.000000                  2   7.000000                  1\n",
       "27      276780   8484332039           7   7.000000                  2   7.000000                  1\n",
       "28      276786   2864322102           6   6.500000                  4   6.000000                  1\n",
       "29      276786   8437606322           8   6.500000                  4   8.000000                  2\n",
       "...        ...          ...         ...        ...                ...        ...                ...\n",
       "433641  276688   0425156737           2   7.724138                 29   2.000000                  1\n",
       "433642  276688   044661193X           7   7.724138                 29   7.512821                 39\n",
       "433643  276688   0553074938           8   7.724138                 29   7.500000                  2\n",
       "433644  276688   0553074946           9   7.724138                 29   7.500000                  2\n",
       "433645  276688   0553088467           8   7.724138                 29   8.500000                  2\n",
       "433646  276688   0553089234          10   7.724138                 29   7.750000                  8\n",
       "433647  276688   0553566040           6   7.724138                 29   8.000000                 20\n",
       "433648  276688   0553572512           7   7.724138                 29   7.411765                 17\n",
       "433649  276688   0553575090           7   7.724138                 29   7.937500                 16\n",
       "433650  276688   0553575104           6   7.724138                 29   7.300000                 20\n",
       "433651  276688   0671015591           2   7.724138                 29   5.500000                  2\n",
       "433652  276688   0671563149           6   7.724138                 29   6.000000                  1\n",
       "433653  276688   0684195569          10   7.724138                 29   9.000000                  4\n",
       "433654  276688   0684804484          10   7.724138                 29   6.750000                  4\n",
       "433655  276688   0688156134           8   7.724138                 29   7.000000                 16\n",
       "433656  276688   0743202694          10   7.724138                 29   7.777778                  9\n",
       "433657  276688   0786011157           7   7.724138                 29   7.000000                  2\n",
       "433658  276688   0836218655          10   7.724138                 29   8.086957                 23\n",
       "433659  276688   0836236688          10   7.724138                 29   8.333333                 15\n",
       "433660  276688   0892966548          10   7.724138                 29   8.000000                  4\n",
       "433661  276688   1551669315           6   7.724138                 29   7.200000                  5\n",
       "433662  276688   1575660792           7   7.724138                 29   7.000000                  1\n",
       "433663  276704   0345386108           6   6.400000                  5   6.852941                 34\n",
       "433664  276704   0380796155           5   6.400000                  5   5.000000                  1\n",
       "433665  276704   0743211383           7   6.400000                  5   6.964912                 57\n",
       "433666  276704   0806917695           5   6.400000                  5   5.000000                  1\n",
       "433667  276704   1563526298           9   6.400000                  5   7.000000                  3\n",
       "433668  276709   0515107662          10  10.000000                  1   8.444444                 18\n",
       "433669  276721   0590442449          10  10.000000                  1   9.000000                  2\n",
       "433670  276723  05162443314           8   8.000000                  1   8.000000                  1\n",
       "\n",
       "[433671 rows x 7 columns]"
      ]
     },
     "execution_count": 188,
     "metadata": {},
     "output_type": "execute_result"
    }
   ],
   "source": [
    "rating2"
   ]
  },
  {
   "cell_type": "code",
   "execution_count": 189,
   "metadata": {
    "collapsed": false
   },
   "outputs": [
    {
     "data": {
      "text/plain": [
       "(433671, 7)"
      ]
     },
     "execution_count": 189,
     "metadata": {},
     "output_type": "execute_result"
    }
   ],
   "source": [
    "rating2.shape"
   ]
  },
  {
   "cell_type": "code",
   "execution_count": 190,
   "metadata": {
    "collapsed": false
   },
   "outputs": [
    {
     "data": {
      "text/plain": [
       "(1149780, 3)"
      ]
     },
     "execution_count": 190,
     "metadata": {},
     "output_type": "execute_result"
    }
   ],
   "source": [
    "rating.shape"
   ]
  },
  {
   "cell_type": "code",
   "execution_count": 191,
   "metadata": {
    "collapsed": true
   },
   "outputs": [],
   "source": [
    "ldf=rating2"
   ]
  },
  {
   "cell_type": "code",
   "execution_count": 192,
   "metadata": {
    "collapsed": true
   },
   "outputs": [],
   "source": [
    "ldfu=ldf.groupby('userID')\n",
    "ldfb=ldf.groupby('ISBN')\n",
    "user_avg=ldfu.bookRating.mean()\n",
    "user_review_count=ldfu.userID.count()\n",
    "book_avg=ldfb.bookRating.mean()\n",
    "book_review_count=ldfb.ISBN.count()\n",
    "nldf=ldf.copy()\n",
    "nldf.set_index(['ISBN'], inplace=True)\n",
    "nldf['book_avg']=book_avg\n",
    "nldf['book_review_count']=book_review_count\n",
    "nldf.reset_index(inplace=True)\n",
    "nldf.set_index(['userID'], inplace=True)\n",
    "nldf['user_avg']=user_avg\n",
    "nldf['user_review_count']=user_review_count\n",
    "nldf.reset_index(inplace=True)"
   ]
  },
  {
   "cell_type": "code",
   "execution_count": 193,
   "metadata": {
    "collapsed": false
   },
   "outputs": [],
   "source": [
    "def recompute_frame(ldf):\n",
    "    \"\"\"\n",
    "    takes a dataframe ldf, makes a copy of it, and returns the copy\n",
    "    with all averages and review counts recomputed\n",
    "    this is used when a frame is subsetted.\n",
    "    \"\"\"\n",
    "    ldfu=ldf.groupby('userID')\n",
    "    ldfb=ldf.groupby('ISBN')\n",
    "    user_avg=ldfu.bookRating.mean()\n",
    "    user_review_count=ldfu.userID.count()\n",
    "    book_avg=ldfb.bookRating.mean()\n",
    "    book_review_count=ldfb.ISBN.count()\n",
    "    nldf=ldf.copy()\n",
    "    nldf.set_index(['ISBN'], inplace=True)\n",
    "    nldf['book_avg']=book_avg\n",
    "    nldf['book_review_count']=book_review_count\n",
    "    nldf.reset_index(inplace=True)\n",
    "    nldf.set_index(['userID'], inplace=True)\n",
    "    nldf['user_avg']=user_avg\n",
    "    nldf['user_review_count']=user_review_count\n",
    "    nldf.reset_index(inplace=True)\n",
    "    return nldf"
   ]
  },
  {
   "cell_type": "code",
   "execution_count": 194,
   "metadata": {
    "collapsed": true
   },
   "outputs": [],
   "source": [
    "def make_smaller(df, bizcount, usercount):\n",
    "    smallidf1=df[(df.book_review_count > bizcount)]\n",
    "    smallidf1=recompute_frame(smallidf1)\n",
    "    smallidf2=smallidf1[(smallidf1.user_review_count > usercount)]\n",
    "    smalldf=recompute_frame(smallidf2)\n",
    "    return smalldf"
   ]
  },
  {
   "cell_type": "code",
   "execution_count": 195,
   "metadata": {
    "collapsed": false
   },
   "outputs": [],
   "source": [
    "# rating2[rating2.book_review_count>100]"
   ]
  },
  {
   "cell_type": "code",
   "execution_count": 196,
   "metadata": {
    "collapsed": false
   },
   "outputs": [
    {
     "data": {
      "text/plain": [
       "(433671, 7)"
      ]
     },
     "execution_count": 196,
     "metadata": {},
     "output_type": "execute_result"
    }
   ],
   "source": [
    "rating2.shape"
   ]
  },
  {
   "cell_type": "code",
   "execution_count": 197,
   "metadata": {
    "collapsed": false
   },
   "outputs": [
    {
     "data": {
      "text/plain": [
       "0.0      1.0\n",
       "0.1      1.0\n",
       "0.2      4.0\n",
       "0.3      8.0\n",
       "0.4     16.0\n",
       "0.5     29.0\n",
       "0.6     50.0\n",
       "0.7     85.0\n",
       "0.8    153.0\n",
       "0.9    387.0\n",
       "Name: user_review_count, dtype: float64"
      ]
     },
     "execution_count": 197,
     "metadata": {},
     "output_type": "execute_result"
    }
   ],
   "source": [
    "rating2['user_review_count'].quantile(np.arange(0,1,0.1))"
   ]
  },
  {
   "cell_type": "code",
   "execution_count": 198,
   "metadata": {
    "collapsed": false
   },
   "outputs": [
    {
     "data": {
      "text/plain": [
       "0.0     1.0\n",
       "0.1     1.0\n",
       "0.2     1.0\n",
       "0.3     2.0\n",
       "0.4     2.0\n",
       "0.5     4.0\n",
       "0.6     6.0\n",
       "0.7    12.0\n",
       "0.8    23.0\n",
       "0.9    57.0\n",
       "Name: book_review_count, dtype: float64"
      ]
     },
     "execution_count": 198,
     "metadata": {},
     "output_type": "execute_result"
    }
   ],
   "source": [
    "rating2['book_review_count'].quantile(np.arange(0,1,0.1))"
   ]
  },
  {
   "cell_type": "code",
   "execution_count": 199,
   "metadata": {
    "collapsed": false
   },
   "outputs": [
    {
     "data": {
      "text/plain": [
       "0.0     1.0\n",
       "0.1     1.0\n",
       "0.2     1.0\n",
       "0.3     1.0\n",
       "0.4     1.0\n",
       "0.5     1.0\n",
       "0.6     2.0\n",
       "0.7     3.0\n",
       "0.8     5.0\n",
       "0.9    12.0\n",
       "Name: userID, dtype: float64"
      ]
     },
     "execution_count": 199,
     "metadata": {},
     "output_type": "execute_result"
    }
   ],
   "source": [
    "rating['userID'].value_counts().quantile(np.arange(0,1,0.1))"
   ]
  },
  {
   "cell_type": "code",
   "execution_count": 200,
   "metadata": {
    "collapsed": false
   },
   "outputs": [
    {
     "data": {
      "text/html": [
       "<div>\n",
       "<table border=\"1\" class=\"dataframe\">\n",
       "  <thead>\n",
       "    <tr style=\"text-align: right;\">\n",
       "      <th></th>\n",
       "      <th>userID</th>\n",
       "      <th>bookRating</th>\n",
       "      <th>user_avg</th>\n",
       "      <th>user_review_count</th>\n",
       "      <th>book_avg</th>\n",
       "      <th>book_review_count</th>\n",
       "    </tr>\n",
       "  </thead>\n",
       "  <tbody>\n",
       "    <tr>\n",
       "      <th>count</th>\n",
       "      <td>433671.000000</td>\n",
       "      <td>433671.000000</td>\n",
       "      <td>433671.000000</td>\n",
       "      <td>433671.000000</td>\n",
       "      <td>433671.000000</td>\n",
       "      <td>433671.000000</td>\n",
       "    </tr>\n",
       "    <tr>\n",
       "      <th>mean</th>\n",
       "      <td>135458.743451</td>\n",
       "      <td>7.601066</td>\n",
       "      <td>7.601066</td>\n",
       "      <td>352.937160</td>\n",
       "      <td>7.601066</td>\n",
       "      <td>22.363794</td>\n",
       "    </tr>\n",
       "    <tr>\n",
       "      <th>std</th>\n",
       "      <td>80678.385078</td>\n",
       "      <td>1.843798</td>\n",
       "      <td>1.179386</td>\n",
       "      <td>1352.150423</td>\n",
       "      <td>1.321068</td>\n",
       "      <td>57.531470</td>\n",
       "    </tr>\n",
       "    <tr>\n",
       "      <th>min</th>\n",
       "      <td>8.000000</td>\n",
       "      <td>1.000000</td>\n",
       "      <td>1.000000</td>\n",
       "      <td>1.000000</td>\n",
       "      <td>1.000000</td>\n",
       "      <td>1.000000</td>\n",
       "    </tr>\n",
       "    <tr>\n",
       "      <th>25%</th>\n",
       "      <td>66619.000000</td>\n",
       "      <td>7.000000</td>\n",
       "      <td>7.000000</td>\n",
       "      <td>6.000000</td>\n",
       "      <td>7.000000</td>\n",
       "      <td>1.000000</td>\n",
       "    </tr>\n",
       "    <tr>\n",
       "      <th>50%</th>\n",
       "      <td>133184.000000</td>\n",
       "      <td>8.000000</td>\n",
       "      <td>7.666667</td>\n",
       "      <td>29.000000</td>\n",
       "      <td>7.750000</td>\n",
       "      <td>4.000000</td>\n",
       "    </tr>\n",
       "    <tr>\n",
       "      <th>75%</th>\n",
       "      <td>205735.000000</td>\n",
       "      <td>9.000000</td>\n",
       "      <td>8.356079</td>\n",
       "      <td>115.000000</td>\n",
       "      <td>8.333333</td>\n",
       "      <td>16.000000</td>\n",
       "    </tr>\n",
       "    <tr>\n",
       "      <th>max</th>\n",
       "      <td>278854.000000</td>\n",
       "      <td>10.000000</td>\n",
       "      <td>10.000000</td>\n",
       "      <td>8524.000000</td>\n",
       "      <td>10.000000</td>\n",
       "      <td>707.000000</td>\n",
       "    </tr>\n",
       "  </tbody>\n",
       "</table>\n",
       "</div>"
      ],
      "text/plain": [
       "              userID     bookRating       user_avg  user_review_count       book_avg  book_review_count\n",
       "count  433671.000000  433671.000000  433671.000000      433671.000000  433671.000000      433671.000000\n",
       "mean   135458.743451       7.601066       7.601066         352.937160       7.601066          22.363794\n",
       "std     80678.385078       1.843798       1.179386        1352.150423       1.321068          57.531470\n",
       "min         8.000000       1.000000       1.000000           1.000000       1.000000           1.000000\n",
       "25%     66619.000000       7.000000       7.000000           6.000000       7.000000           1.000000\n",
       "50%    133184.000000       8.000000       7.666667          29.000000       7.750000           4.000000\n",
       "75%    205735.000000       9.000000       8.356079         115.000000       8.333333          16.000000\n",
       "max    278854.000000      10.000000      10.000000        8524.000000      10.000000         707.000000"
      ]
     },
     "execution_count": 200,
     "metadata": {},
     "output_type": "execute_result"
    }
   ],
   "source": [
    "rating2.describe()"
   ]
  },
  {
   "cell_type": "code",
   "execution_count": 201,
   "metadata": {
    "collapsed": false
   },
   "outputs": [],
   "source": [
    "smalldf=make_smaller(rating2, 100, 10)\n",
    "# smalldf.to_csv(\"rating2.csv\", index=False)\n",
    "# print \"Number of Reviews\",smalldf.shape[0]\n",
    "# print \"Number of Users\", smalldf.user_id.unique().shape[0]\n",
    "# print \"Number of Businesses\", smalldf.business_id.unique().shape[0]\n",
    "# s,d=compute_supports(smalldf)"
   ]
  },
  {
   "cell_type": "code",
   "execution_count": 202,
   "metadata": {
    "collapsed": false
   },
   "outputs": [
    {
     "data": {
      "text/plain": [
       "(2205, 7)"
      ]
     },
     "execution_count": 202,
     "metadata": {},
     "output_type": "execute_result"
    }
   ],
   "source": [
    "smalldf.shape"
   ]
  },
  {
   "cell_type": "code",
   "execution_count": 203,
   "metadata": {
    "collapsed": false
   },
   "outputs": [
    {
     "data": {
      "text/html": [
       "<div>\n",
       "<table border=\"1\" class=\"dataframe\">\n",
       "  <thead>\n",
       "    <tr style=\"text-align: right;\">\n",
       "      <th></th>\n",
       "      <th>userID</th>\n",
       "      <th>ISBN</th>\n",
       "      <th>bookRating</th>\n",
       "      <th>user_avg</th>\n",
       "      <th>user_review_count</th>\n",
       "      <th>book_avg</th>\n",
       "      <th>book_review_count</th>\n",
       "    </tr>\n",
       "  </thead>\n",
       "  <tbody>\n",
       "    <tr>\n",
       "      <th>0</th>\n",
       "      <td>254</td>\n",
       "      <td>0142001740</td>\n",
       "      <td>9</td>\n",
       "      <td>8.818182</td>\n",
       "      <td>11</td>\n",
       "      <td>8.680000</td>\n",
       "      <td>25</td>\n",
       "    </tr>\n",
       "    <tr>\n",
       "      <th>1</th>\n",
       "      <td>254</td>\n",
       "      <td>0380789035</td>\n",
       "      <td>10</td>\n",
       "      <td>8.818182</td>\n",
       "      <td>11</td>\n",
       "      <td>7.888889</td>\n",
       "      <td>9</td>\n",
       "    </tr>\n",
       "    <tr>\n",
       "      <th>2</th>\n",
       "      <td>254</td>\n",
       "      <td>0439064864</td>\n",
       "      <td>9</td>\n",
       "      <td>8.818182</td>\n",
       "      <td>11</td>\n",
       "      <td>9.000000</td>\n",
       "      <td>18</td>\n",
       "    </tr>\n",
       "    <tr>\n",
       "      <th>3</th>\n",
       "      <td>254</td>\n",
       "      <td>0439064872</td>\n",
       "      <td>9</td>\n",
       "      <td>8.818182</td>\n",
       "      <td>11</td>\n",
       "      <td>8.857143</td>\n",
       "      <td>21</td>\n",
       "    </tr>\n",
       "    <tr>\n",
       "      <th>4</th>\n",
       "      <td>254</td>\n",
       "      <td>0439136350</td>\n",
       "      <td>9</td>\n",
       "      <td>8.818182</td>\n",
       "      <td>11</td>\n",
       "      <td>8.944444</td>\n",
       "      <td>18</td>\n",
       "    </tr>\n",
       "  </tbody>\n",
       "</table>\n",
       "</div>"
      ],
      "text/plain": [
       "   userID        ISBN  bookRating  user_avg  user_review_count  book_avg  book_review_count\n",
       "0     254  0142001740           9  8.818182                 11  8.680000                 25\n",
       "1     254  0380789035          10  8.818182                 11  7.888889                  9\n",
       "2     254  0439064864           9  8.818182                 11  9.000000                 18\n",
       "3     254  0439064872           9  8.818182                 11  8.857143                 21\n",
       "4     254  0439136350           9  8.818182                 11  8.944444                 18"
      ]
     },
     "execution_count": 203,
     "metadata": {},
     "output_type": "execute_result"
    }
   ],
   "source": [
    "smalldf.head()"
   ]
  },
  {
   "cell_type": "code",
   "execution_count": 204,
   "metadata": {
    "collapsed": false
   },
   "outputs": [
    {
     "name": "stdout",
     "output_type": "stream",
     "text": [
      "(1895, 7) (186, 7) (124, 7)\n"
     ]
    }
   ],
   "source": [
    "trainlist=[]\n",
    "testlist=[]\n",
    "validatelist=[]\n",
    "take=5\n",
    "for k, v in smalldf.groupby('userID'):\n",
    "    if np.mean(v.user_review_count) > 13:\n",
    "        takenos=np.random.choice(range(take), size=take/2, replace=False)\n",
    "        takelist=np.array([e in takenos for e in range(take)])\n",
    "        validatelist.append(v[-take:][~takelist])#use those \n",
    "        testlist.append(v[-take:][takelist])#use the other \n",
    "        trainlist.append(v[:-take])\n",
    "    else:\n",
    "        trainlist.append(v)\n",
    "traindf=pd.concat(trainlist)\n",
    "validatedf=pd.concat(validatelist)\n",
    "testdf=pd.concat(testlist)\n",
    "print traindf.shape, validatedf.shape, testdf.shape"
   ]
  },
  {
   "cell_type": "code",
   "execution_count": 205,
   "metadata": {
    "collapsed": false
   },
   "outputs": [
    {
     "name": "stdout",
     "output_type": "stream",
     "text": [
      "0 0\n"
     ]
    }
   ],
   "source": [
    "maskval=[e in set(validatedf.ISBN).difference(set(traindf.ISBN)) for e in validatedf.ISBN] \n",
    "masktest=[e in set(testdf.ISBN).difference(set(traindf.ISBN)) for e in testdf.ISBN] \n",
    "print np.sum(maskval), np.sum(masktest)"
   ]
  },
  {
   "cell_type": "code",
   "execution_count": 206,
   "metadata": {
    "collapsed": false
   },
   "outputs": [
    {
     "data": {
      "text/plain": [
       "0062502182    5\n",
       "0380731851    5\n",
       "0380789019    5\n",
       "0446612545    5\n",
       "0515131229    2\n",
       "Name: ISBN, dtype: int64"
      ]
     },
     "execution_count": 206,
     "metadata": {},
     "output_type": "execute_result"
    }
   ],
   "source": [
    "smalldf.ISBN.value_counts().tail()"
   ]
  },
  {
   "cell_type": "code",
   "execution_count": 207,
   "metadata": {
    "collapsed": false
   },
   "outputs": [
    {
     "data": {
      "text/plain": [
       "147141    11\n",
       "160819    11\n",
       "263325    11\n",
       "187145    11\n",
       "214786    11\n",
       "Name: userID, dtype: int64"
      ]
     },
     "execution_count": 207,
     "metadata": {},
     "output_type": "execute_result"
    }
   ],
   "source": [
    "smalldf.userID.value_counts().tail()"
   ]
  },
  {
   "cell_type": "code",
   "execution_count": 208,
   "metadata": {
    "collapsed": false
   },
   "outputs": [
    {
     "data": {
      "text/plain": [
       "8.083377308707124"
      ]
     },
     "execution_count": 208,
     "metadata": {},
     "output_type": "execute_result"
    }
   ],
   "source": [
    "ybar = traindf.bookRating.mean()\n",
    "ybar"
   ]
  },
  {
   "cell_type": "code",
   "execution_count": 209,
   "metadata": {
    "collapsed": true
   },
   "outputs": [],
   "source": [
    "uuids=traindf.userID.unique()#unique-user-ids\n",
    "uiids=traindf.ISBN.unique()#unique-item-ids"
   ]
  },
  {
   "cell_type": "code",
   "execution_count": 210,
   "metadata": {
    "collapsed": true
   },
   "outputs": [],
   "source": [
    "uuidmap={v:k for k,v in enumerate(uuids)}#of length U\n",
    "uiidmap={v:k for k,v in enumerate(uiids)}#of length M"
   ]
  },
  {
   "cell_type": "code",
   "execution_count": 211,
   "metadata": {
    "collapsed": true
   },
   "outputs": [],
   "source": [
    "def compute_supports(df):\n",
    "    uuids=df.user_id.unique()\n",
    "    rests = df.groupby('business_id').user_id.unique()\n",
    "    bdict={}\n",
    "    for e,v in zip(rests.index.values, rests.values):\n",
    "        bdict[e] = np.array([item in v for item in uuids])\n",
    "    restaurants=bdict.keys()\n",
    "    supports=[]\n",
    "    for i,rest1 in enumerate(restaurants):\n",
    "        for j,rest2 in enumerate(restaurants):\n",
    "            if  i < j:\n",
    "                supmask = (bdict[rest1] & bdict[rest2])\n",
    "                common_reviewers = np.sum(supmask)\n",
    "                supports.append(common_reviewers)\n",
    "    print \"mean support\",np.mean(supports), \"median support\", np.median(supports)\n",
    "    return supports, bdict"
   ]
  },
  {
   "cell_type": "code",
   "execution_count": 212,
   "metadata": {
    "collapsed": false
   },
   "outputs": [],
   "source": [
    "def user_contrib(uids, trdf):\n",
    "    return { uid:(trdf[trdf['userID']==uid].bookRating.mean() - ybar) for uid in uids }\n",
    "def item_contrib(iids, trdf):\n",
    "    return {iid:(trdf[trdf['ISBN']==iid].bookRating.mean() - ybar) for iid in iids}\n",
    "user_biases=user_contrib(uuids, traindf)\n",
    "item_biases=item_contrib(uiids, traindf)"
   ]
  },
  {
   "cell_type": "code",
   "execution_count": 213,
   "metadata": {
    "collapsed": false
   },
   "outputs": [
    {
     "data": {
      "text/plain": [
       "(array([  1.,   0.,   0.,   0.,   0.,   1.,   0.,   0.,   1.,   0.,   0.,\n",
       "          0.,   0.,   0.,   1.,   1.,   4.,   1.,   4.,   3.,   0.,   1.,\n",
       "          3.,   2.,   8.,   4.,   5.,   6.,   6.,   8.,  11.,  10.,   4.,\n",
       "          6.,   6.,   2.,   3.,   3.,   5.,   2.,  11.,   3.,   1.,   4.,\n",
       "          4.,   4.,   0.,   0.,   1.,   1.]),\n",
       " array([-3.08337731, -2.98337731, -2.88337731, -2.78337731, -2.68337731,\n",
       "        -2.58337731, -2.48337731, -2.38337731, -2.28337731, -2.18337731,\n",
       "        -2.08337731, -1.98337731, -1.88337731, -1.78337731, -1.68337731,\n",
       "        -1.58337731, -1.48337731, -1.38337731, -1.28337731, -1.18337731,\n",
       "        -1.08337731, -0.98337731, -0.88337731, -0.78337731, -0.68337731,\n",
       "        -0.58337731, -0.48337731, -0.38337731, -0.28337731, -0.18337731,\n",
       "        -0.08337731,  0.01662269,  0.11662269,  0.21662269,  0.31662269,\n",
       "         0.41662269,  0.51662269,  0.61662269,  0.71662269,  0.81662269,\n",
       "         0.91662269,  1.01662269,  1.11662269,  1.21662269,  1.31662269,\n",
       "         1.41662269,  1.51662269,  1.61662269,  1.71662269,  1.81662269,\n",
       "         1.91662269]),\n",
       " <a list of 50 Patch objects>)"
      ]
     },
     "execution_count": 213,
     "metadata": {},
     "output_type": "execute_result"
    },
    {
     "data": {
      "image/png": "[encoded data removed]",
      "text/plain": [
       "<matplotlib.figure.Figure at 0x375d0940>"
      ]
     },
     "metadata": {},
     "output_type": "display_data"
    }
   ],
   "source": [
    "plt.hist(user_biases.values(),bins=50)"
   ]
  },
  {
   "cell_type": "code",
   "execution_count": 214,
   "metadata": {
    "collapsed": false
   },
   "outputs": [
    {
     "data": {
      "image/png": "[encoded data removed]",
      "text/plain": [
       "<matplotlib.figure.Figure at 0x16502908>"
      ]
     },
     "metadata": {},
     "output_type": "display_data"
    }
   ],
   "source": [
    "plt.hist(item_biases.values(), bins=20);"
   ]
  },
  {
   "cell_type": "code",
   "execution_count": 215,
   "metadata": {
    "collapsed": false
   },
   "outputs": [
    {
     "data": {
      "image/png": "[encoded data removed]",
      "text/plain": [
       "<matplotlib.figure.Figure at 0x19902e48>"
      ]
     },
     "metadata": {},
     "output_type": "display_data"
    }
   ],
   "source": [
    "traindf.groupby('bookRating').bookRating.count().plot(kind=\"barh\");"
   ]
  },
  {
   "cell_type": "code",
   "execution_count": 216,
   "metadata": {
    "collapsed": true
   },
   "outputs": [],
   "source": [
    "train_avgs={'mean':ybar, 'users':user_biases, 'items':item_biases}"
   ]
  },
  {
   "cell_type": "code",
   "execution_count": 217,
   "metadata": {
    "collapsed": true
   },
   "outputs": [],
   "source": [
    "predictions={}\n",
    "predictions_valid={}"
   ]
  },
  {
   "cell_type": "code",
   "execution_count": 218,
   "metadata": {
    "collapsed": false
   },
   "outputs": [],
   "source": [
    "predictions['baseline'] = (ybar + testdf['userID'].apply(lambda x: user_biases[x]) + testdf['ISBN'].apply(lambda x: item_biases[x])).values\n",
    "predictions_valid['baseline'] = (ybar + validatedf['userID'].apply(lambda x: user_biases[x]) + validatedf['ISBN'].apply(lambda x: item_biases[x])).values"
   ]
  },
  {
   "cell_type": "code",
   "execution_count": 219,
   "metadata": {
    "collapsed": true
   },
   "outputs": [],
   "source": [
    "def get_rmse(s, s_predict):\n",
    "    diff = s - s_predict\n",
    "    return np.sqrt(np.dot(diff,diff)/diff.shape[0])"
   ]
  },
  {
   "cell_type": "code",
   "execution_count": 220,
   "metadata": {
    "collapsed": true
   },
   "outputs": [],
   "source": [
    "def compare_results(stars_actual, stars_predicted, ylow=1, yhigh=10, model=\"\", predicteds=False, onsame=False, axis=False):\n",
    "    \"\"\"\n",
    "    plot predicted results against actual results. Takes 2 arguments: a\n",
    "    numpy array of actual ratings and a numpy array of predicted ratings\n",
    "    scatterplots the predictions, a unit slope line, line segments joining the mean,\n",
    "    and a filled in area of the standard deviations.\"\n",
    "    \"\"\"\n",
    "    if onsame:\n",
    "        ax=onsame\n",
    "    elif axis:\n",
    "        ax=axis\n",
    "    else:\n",
    "        fig=plt.figure()\n",
    "        ax=plt.gca()\n",
    "    df=pd.DataFrame(dict(actual=stars_actual, predicted=stars_predicted))\n",
    "    xp=[]\n",
    "    yp=[]\n",
    "    for k,v in df.groupby('actual'):\n",
    "        xp.append(k)\n",
    "        yp.append(v.predicted.mean())        \n",
    "    \n",
    "    cl, = ax.plot(xp,yp, 's-', label=\"means for %s\" % model)\n",
    "    c=cl.get_color()\n",
    "\n",
    "    sig=df.groupby('actual').predicted.std().values\n",
    "    ax.fill_between(xp, yp - sig, yp + sig, \n",
    "                 color=c, alpha=0.2)\n",
    "    if predicteds:\n",
    "        ax.plot(df.actual, df.predicted, '.', color=c, alpha=0.1, label=\"predicted for %s\" % model)\n",
    "\n",
    "    if not onsame:\n",
    "        ax.plot([1,10],[1,10], 'k', label=\"slope 1\")\n",
    "        ax.set_xlabel(\"actual\")\n",
    "        ax.set_ylabel(\"predicted\")\n",
    "        ax.set_ylim([ylow,yhigh])\n",
    "        ax.set_xlim([0.9, 10.1])\n",
    "    ax.legend(frameon=False, loc=\"upper left\")\n",
    "    rmse=get_rmse(stars_actual, stars_predicted)\n",
    "    print \"RMSE for %s\" % model, rmse\n",
    "    return ax,rmse"
   ]
  },
  {
   "cell_type": "code",
   "execution_count": 221,
   "metadata": {
    "collapsed": false
   },
   "outputs": [
    {
     "name": "stdout",
     "output_type": "stream",
     "text": [
      "RMSE for baseline 1.66532871087\n"
     ]
    },
    {
     "data": {
      "image/png": "[encoded data removed]",
      "text/plain": [
       "<matplotlib.figure.Figure at 0x1fb13748>"
      ]
     },
     "metadata": {},
     "output_type": "display_data"
    }
   ],
   "source": [
    "compare_results(testdf.bookRating,predictions['baseline'], model=\"baseline\", predicteds=True);"
   ]
  },
  {
   "cell_type": "markdown",
   "metadata": {
    "collapsed": true
   },
   "source": [
    "## Q2 Collaborative Filtering using kNN\n",
    "\n",
    "Setting up the Collaborative Filtering Model\n",
    "Can we do a better job of predicting the rating $Y_{um}$ user $u$ would give to restaurant $m$? According to the central dogma of CF, we ought to be able to use the responses of similar users regarding similar restaurants to get a better prediction.\n",
    "\n",
    "We can make an estimate of $Y_{um}$ as:\n",
    "\n",
    "$$ \\hat{Y_{um}} = \\hat Y_{um}^{baseline}\\, + \\,\\frac{\\sum\\limits_{j \\in S^{k}(m)} s_{mj} ( Y_{uj} - \\hat Y_{uj}^{baseline} )}{\\sum\\limits_{j \\in S^{k}(m)} s_{mj} } $$\n",
    "where $S^{k}(m)$ is the $k$ neighbor items of item $m$ based on some pooling criterion, for example, those items which have been rated by user $u$.\n",
    "\n",
    "To do this, we compute a similarity measure $s_{mj}$ between the $m$th and $j$th items. This similarity might be measured via cosine similarity, pearson co-efficient or using other distance based measures. Here we shall use the Pearson coefficient. This measures the tendency of users to rate items similarly. Since most ratings are unknown, it is computed on the \"common user support\" (n_common), which is the set of common raters of both items. This is why we spent some time earlier trying to craft a data set which was doable in reasonable time in the context of this homework but still having reasonable values of n_common.\n",
    "\n",
    "### Global Recommender\n",
    "$S^{k}(m)$ depends on items only.\n",
    "\n",
    "Now we have a way to pool information between similar restaurants to try to predict a user's recommendation. But how do we choose the neighborhood to pool over? The simplest choice is to calculate the similarity between items using their entire common user support, and rank the nearest neighbors of an item by this similarity. We call this a \"global\" recommender because it assumes that every user perceives the similarity between restaurants in the same way. The global recommender does have the advantage of dealing with the possible sparsity of the user's rated items, but also the disadvantage of giving one answer for all users, without taking the user's preferences into account. This is a classic case of bias-variance tradeoff.\n",
    "\n",
    "The above recommender also has a second problem: we have no way of telling how good our results are. The problem is this:\n",
    "\n",
    "When I compute the global neighborhood of a restaurant, one of the restaurants in these k nearest neighbors might not have a rating from me in the training set, in the usual training-validation paradigm. So I cant compute that $Y_{uj}$ on the right hand side in the formula above. The best I could do is to use the average rating of restaurant in the training set. I can, of-course, still calculate the nearest neighbors and make recommendations based on the distances I calculate.\n",
    "\n",
    "We shall not do this recommender here. See HW4 in the 2013 cycle of cs109 for an example of such a recommender. But, you might see such a recommender in the wild: its then a good faith recommender, as it is very hard to validate such a recommender without playing games with averages.\n",
    "\n",
    "### Local recommender\n",
    "$S^{k}(m) = S^{k}(m;u)$ depends on items and the user in question\n",
    "\n",
    "The aim is to get more fine-grained predictions about each user, and try to predict what rating a user would give to a restaurant they have never tried before. To do this, we will try to personalize the information we use even further, and only pool information from restaurants that the user has rated.\n",
    "\n",
    "This allows us to return to the original problem of prediction $Y_{um}$ for a restaurant $m$ that user $u$ has never rated before. Using our newly computed similarity metrics, we can modify our original baseline estimate by pulling in information from the user's neighborhood of the restaurant $m$, and predict $Y_{um}$ as:\n",
    "\n",
    "$$ \\hat{Y_{um}} = \\hat Y^{baseline}_{um}\\, + \\,\\frac{\\sum\\limits_{j \\in S^{k}(m;u)} s_{mj} ( Y_{uj} - \\hat Y^{baseline}_{uj} )}{\\sum\\limits_{j \\in S^{k}(m;u)} s_{mj} } $$\n",
    "where $s^{k}(m;u)$ is the $k$ neighbor items of item $m$ which have been rated by user $u$.\n",
    "\n",
    "Now, this is not a particularly good assumption, especially in the situation where a restaurant is new (new item problem) or a user is new (cold start problem), or in the case when there are very few reviewers of a restaurant, or very few reviews by a user respectively. However, one must start somewhere!\n",
    "\n",
    "Notice that in adding in the similarity term, we subtract the baseline estimate from the observed rating of the user's neighbor items.\n",
    "\n",
    "### Common Support\n",
    "Lets now make a histogram of the common user support (the number of common reviewers) of each pair of restaurants on the training set, and print the mean. We saw a function do this earlier when we created the smaller data set in smalldf.\n",
    "\n",
    "The common support is an important concept, as for each pair of restaurants, it is the number of people who reviewed both. It will be used to modify similarity between restaurants. If the common support is low, the similarity is less believable, and we would want to \"regularize\" it by some average estimate.\n",
    "\n",
    "In this incarnation we create a two dimensional array supports which uses the uiidmap, and a Pandas Series users_for_restaurants with index the restaurant ids which will come useful later. We obtain the common reviewers as an intersection between two restaurants reviewers. We take care to fill the entire matrix including the diagonal. (This is the second implementation of a support finding routine you have seen: we use set intersections here; earlier we used boolean ANDs on a mask). You will write a third one, soon :-)"
   ]
  },
  {
   "cell_type": "markdown",
   "metadata": {},
   "source": [
    "Lets now make a histogram of the common user support (the number of common reviewers) of each pair of restaurants on the training set, and print the mean. We saw a function do this earlier when we created the smaller data set in smalldf.\n",
    "\n",
    "The common support is an important concept, as for each pair of restaurants, it is the number of people who reviewed both. It will be used to modify similarity between restaurants. If the common support is low, the similarity is less believable, and we would want to \"regularize\" it by some average estimate.\n",
    "\n",
    "In this incarnation we create a two dimensional array supports which uses the uiidmap, and a Pandas Series users_for_restaurants with index the restaurant ids which will come useful later. We obtain the common reviewers as an intersection between two restaurants reviewers. We take care to fill the entire matrix including the diagonal. (This is the second implementation of a support finding routine you have seen: we use set intersections here; earlier we used boolean ANDs on a mask). You will write a third one, soon :-)"
   ]
  },
  {
   "cell_type": "code",
   "execution_count": 222,
   "metadata": {
    "collapsed": false
   },
   "outputs": [
    {
     "name": "stdout",
     "output_type": "stream",
     "text": [
      "Mean and Median support is: 1.70319879777 1.0\n"
     ]
    }
   ],
   "source": [
    "#for each restaurant get the unique userids who rated it\n",
    "#Generate list of lists which is matrix for users and items.\n",
    "users_for_restaurants = traindf.groupby('ISBN').userID.unique()\n",
    "restaurants=uiids\n",
    "lres=len(restaurants)\n",
    "supports=[[[] for i in range(lres)] for i in range(lres)]\n",
    "supporthistlist=[]\n",
    "for i,rest1 in enumerate(restaurants):\n",
    "    for j,rest2 in enumerate(restaurants):\n",
    "        if  i <= j:#its symmetric\n",
    "            if rest1==rest2:\n",
    "                common_reviewers=users_for_restaurants[rest1]\n",
    "            else:\n",
    "                common_reviewers = set(users_for_restaurants[rest1]).intersection(set(users_for_restaurants[rest2]))\n",
    "                supporthistlist.append(len(common_reviewers))\n",
    "            supports[i][j]=common_reviewers\n",
    "            supports[j][i]=common_reviewers\n",
    "print \"Mean and Median support is:\",np.mean(supporthistlist), np.median(supporthistlist)"
   ]
  },
  {
   "cell_type": "code",
   "execution_count": 223,
   "metadata": {
    "collapsed": false
   },
   "outputs": [
    {
     "data": {
      "text/plain": [
       "array([187256, 238889, 270713, 271176], dtype=int64)"
      ]
     },
     "execution_count": 223,
     "metadata": {},
     "output_type": "execute_result"
    }
   ],
   "source": [
    "supports[136][136]"
   ]
  },
  {
   "cell_type": "code",
   "execution_count": 224,
   "metadata": {
    "collapsed": false
   },
   "outputs": [
    {
     "data": {
      "text/plain": [
       "array([187256, 238889, 270713, 271176], dtype=int64)"
      ]
     },
     "execution_count": 224,
     "metadata": {},
     "output_type": "execute_result"
    }
   ],
   "source": [
    "supports[136][136]"
   ]
  },
  {
   "cell_type": "code",
   "execution_count": 225,
   "metadata": {
    "collapsed": true
   },
   "outputs": [],
   "source": [
    "from scipy.stats.stats import pearsonr\n",
    "\"\"\"\n",
    "Given a subframe or dictionary of restaurant 1 reviews and a subframe or dictionary of restaurant 2 reviews,\n",
    "where the reviewers are those who have reviewed both restaurants, return \n",
    "the pearson correlation coefficient between the user average subtracted ratings.\n",
    "The case for zero common reviewers is handled separately. If the correlation is\n",
    "NaN if any of the individual variances are 0 (the n=1 case), return 0 instead\n",
    "\"\"\"\n",
    "#your code here\n",
    "def pearson_sim(rest1_reviews, rest2_reviews, n_common):\n",
    "\n",
    "    if n_common==0:\n",
    "        rho=0.\n",
    "    else:\n",
    "        diff1=rest1_reviews['bookRating']-rest1_reviews['user_avg']\n",
    "        diff2=rest2_reviews['bookRating']-rest2_reviews['user_avg']\n",
    "        rho=pearsonr(diff1, diff2)[0]\n",
    "        if np.isnan(rho):\n",
    "            rho=0.\n",
    "    return rho"
   ]
  },
  {
   "cell_type": "code",
   "execution_count": 226,
   "metadata": {
    "collapsed": true
   },
   "outputs": [],
   "source": [
    "def get_restaurant_reviews(restaurant_id, df, set_of_users):\n",
    "    \"\"\"\n",
    "    given a resturant id and a set of reviewers, return the sub-dataframe of their\n",
    "    reviews.\n",
    "    \"\"\"\n",
    "    mask = (df.userID.isin(set_of_users)) & (df.ISBN==restaurant_id)\n",
    "    reviews = df[mask]\n",
    "    reviews = reviews[reviews.userID.duplicated()==False]\n",
    "    return reviews"
   ]
  },
  {
   "cell_type": "code",
   "execution_count": 227,
   "metadata": {
    "collapsed": true
   },
   "outputs": [],
   "source": [
    "class Database:\n",
    "    \"A class representing a database of similarities and common supports\"\n",
    "    \n",
    "    def __init__(self, rindexmap, supports):\n",
    "        \"the constructor, takes a map of restaurant id's to integers\"\n",
    "        database={}\n",
    "        self.rindexmap=rindexmap\n",
    "        self.supports=supports\n",
    "        l_keys=len(self.rindexmap.keys())\n",
    "        self.database_sim=np.zeros([l_keys,l_keys])\n",
    "        self.database_sup=np.zeros([l_keys, l_keys], dtype=np.int)\n",
    "\n",
    "    def set_supports(self, supports):\n",
    "        self.supports=supports\n",
    "        \n",
    "    def get(self, b1, b2):\n",
    "        \"returns a tuple of similarity,common_support given two business ids\"\n",
    "        sim=self.database_sim[self.rindexmap[b1]][self.rindexmap[b2]]\n",
    "        nsup=self.database_sup[self.rindexmap[b1]][self.rindexmap[b2]]\n",
    "        return (sim, nsup)"
   ]
  },
  {
   "cell_type": "code",
   "execution_count": 228,
   "metadata": {
    "collapsed": true
   },
   "outputs": [],
   "source": [
    "db=Database(uiidmap, supports)"
   ]
  },
  {
   "cell_type": "code",
   "execution_count": 229,
   "metadata": {
    "collapsed": false
   },
   "outputs": [
    {
     "name": "stdout",
     "output_type": "stream",
     "text": [
      "Index([u'userID', u'ISBN', u'bookRating', u'user_avg', u'user_review_count', u'book_avg', u'book_review_count'], dtype='object')\n",
      "Pandas(Index=0, userID=254, ISBN=u'0142001740', bookRating=9, user_avg=8.8181818181818183, user_review_count=11, book_avg=8.6799999999999997, book_review_count=25)\n",
      "Pandas(Index=1, userID=254, ISBN=u'0380789035', bookRating=10, user_avg=8.8181818181818183, user_review_count=11, book_avg=7.8888888888888893, book_review_count=9)\n"
     ]
    }
   ],
   "source": [
    "print traindf.columns\n",
    "for row in traindf.head(2).itertuples():\n",
    "    print row"
   ]
  },
  {
   "cell_type": "code",
   "execution_count": 230,
   "metadata": {
    "collapsed": true
   },
   "outputs": [],
   "source": [
    "def mapper1(row):\n",
    "    return row[1], (row[2], row[5], row[14])"
   ]
  },
  {
   "cell_type": "code",
   "execution_count": 231,
   "metadata": {
    "collapsed": true
   },
   "outputs": [],
   "source": [
    "# class Salary_calc:\n",
    "    \n",
    "#     def __init__(self,number1,number2):\n",
    "#         self.number1=number1\n",
    "#         self.number2=number2\n",
    "#         Salary_calc.base=30\n",
    "    \n",
    "#     def add(self):\n",
    "#         return self.number1+self.number2+Salary_calc.base\n",
    "    \n",
    "#     def min(self):\n",
    "#         return Salary_calc.base-self.number1-self.number2\n",
    "        "
   ]
  },
  {
   "cell_type": "code",
   "execution_count": 232,
   "metadata": {
    "collapsed": false
   },
   "outputs": [],
   "source": [
    "# a0=Salary_calc(2,3)"
   ]
  },
  {
   "cell_type": "code",
   "execution_count": 233,
   "metadata": {
    "collapsed": false
   },
   "outputs": [],
   "source": [
    "# a0.add()"
   ]
  },
  {
   "cell_type": "code",
   "execution_count": 234,
   "metadata": {
    "collapsed": false
   },
   "outputs": [],
   "source": [
    "# a0.min()"
   ]
  },
  {
   "cell_type": "code",
   "execution_count": 235,
   "metadata": {
    "collapsed": false
   },
   "outputs": [],
   "source": [
    "# class Employee:\n",
    "# # Common base class for all employees\n",
    "#     empCount = 0\n",
    "\n",
    "#     def __init__(self, name, salary):\n",
    "#         self.name = name\n",
    "#         self.salary = salary\n",
    "#         Employee.empCount += 1\n",
    "\n",
    "#     def displayCount(self):\n",
    "#          print \"Total Employee %d\" % Employee.empCount\n",
    "\n",
    "#     def displayEmployee(self):\n",
    "#          print \"Name : \", self.name,  \", Salary: \", self.salary\n",
    "\n",
    "# \"This would create first object of Employee class\"\n",
    "# emp1 = Employee(\"Zara\", 2000)\n",
    "# \"This would create second object of Employee class\"\n",
    "# emp2 = Employee(\"Manni\", 5000)\n",
    "# emp1.displayEmployee()\n",
    "# emp2.displayEmployee()"
   ]
  },
  {
   "cell_type": "code",
   "execution_count": 236,
   "metadata": {
    "collapsed": true
   },
   "outputs": [],
   "source": [
    "db2=Database( uiidmap, supports)"
   ]
  },
  {
   "cell_type": "code",
   "execution_count": 237,
   "metadata": {
    "collapsed": true
   },
   "outputs": [],
   "source": [
    "def calculate_similarity(db, df, rest1, rest2, similarity_func):\n",
    "    # find common reviewers\n",
    "    common_reviewers = db.supports[db.rindexmap[rest1]][db.rindexmap[rest2]]\n",
    "    n_common=len(common_reviewers)\n",
    "    if rest1==rest2:\n",
    "        return 1., n_common\n",
    "    #get reviews\n",
    "    rest1_reviews = get_restaurant_reviews(rest1, df, common_reviewers)\n",
    "    rest2_reviews = get_restaurant_reviews(rest2, df, common_reviewers)\n",
    "    sim=similarity_func(rest1_reviews, rest2_reviews, n_common)\n",
    "    return sim, n_common\n",
    "\n",
    "def populate_by_calculating(db, df, similarity_func):\n",
    "    \"\"\"\n",
    "    a populator for every pair of businesses in df. takes similarity_func like\n",
    "    pearson_sim as argument\n",
    "    \"\"\"\n",
    "    items=db.rindexmap.items()\n",
    "    for b1, i1 in items:\n",
    "        for b2, i2 in items:\n",
    "            if i1 <= i2:\n",
    "                sim, nsup=calculate_similarity(db, df, b1, b2, similarity_func)\n",
    "                db.database_sim[i1][i2]=sim\n",
    "                db.database_sim[i2][i1]=sim\n",
    "                db.database_sup[i1][i2]=nsup\n",
    "                db.database_sup[i2][i1]=nsup"
   ]
  },
  {
   "cell_type": "code",
   "execution_count": 238,
   "metadata": {
    "collapsed": false
   },
   "outputs": [
    {
     "name": "stdout",
     "output_type": "stream",
     "text": [
      "Wall time: 42.1 s\n"
     ]
    }
   ],
   "source": [
    "%%time\n",
    "populate_by_calculating(db2, traindf, pearson_sim)"
   ]
  },
  {
   "cell_type": "code",
   "execution_count": 239,
   "metadata": {
    "collapsed": false
   },
   "outputs": [
    {
     "data": {
      "text/plain": [
       "[3, 2, 5, 1]"
      ]
     },
     "execution_count": 239,
     "metadata": {},
     "output_type": "execute_result"
    }
   ],
   "source": [
    "from operator import itemgetter\n",
    "inventory = [('apple', 3), ('banana', 2), ('pear', 5), ('orange', 1)]\n",
    "getcount = itemgetter(1)\n",
    "map(getcount, inventory)"
   ]
  },
  {
   "cell_type": "code",
   "execution_count": 240,
   "metadata": {
    "collapsed": false
   },
   "outputs": [
    {
     "data": {
      "text/plain": [
       "['apple', 'banana', 'pear', 'orange']"
      ]
     },
     "execution_count": 240,
     "metadata": {},
     "output_type": "execute_result"
    }
   ],
   "source": [
    "getcount = itemgetter(0)\n",
    "map(getcount, inventory)"
   ]
  },
  {
   "cell_type": "code",
   "execution_count": 241,
   "metadata": {
    "collapsed": false
   },
   "outputs": [
    {
     "data": {
      "text/plain": [
       "[('apple', 3), ('banana', 2), ('orange', 1), ('pear', 5)]"
      ]
     },
     "execution_count": 241,
     "metadata": {},
     "output_type": "execute_result"
    }
   ],
   "source": [
    "sorted(inventory, key=getcount)"
   ]
  },
  {
   "cell_type": "code",
   "execution_count": 242,
   "metadata": {
    "collapsed": false
   },
   "outputs": [
    {
     "data": {
      "text/plain": [
       "[('orange', 1), ('banana', 2), ('apple', 3), ('pear', 5)]"
      ]
     },
     "execution_count": 242,
     "metadata": {},
     "output_type": "execute_result"
    }
   ],
   "source": [
    "getcount = itemgetter(1)\n",
    "map(getcount, inventory)\n",
    "sorted(inventory, key=getcount)"
   ]
  },
  {
   "cell_type": "code",
   "execution_count": 243,
   "metadata": {
    "collapsed": true
   },
   "outputs": [],
   "source": [
    "def shrunk_sim(sim, n_common, reg=3.):\n",
    "    \"takes a similarity and shrinks it down by using the regularizer\"\n",
    "    ssim=(n_common*sim)/(n_common+reg)\n",
    "    return ssim"
   ]
  },
  {
   "cell_type": "code",
   "execution_count": 244,
   "metadata": {
    "collapsed": false
   },
   "outputs": [],
   "source": [
    "\"\"\"\n",
    "Function\n",
    "--------\n",
    "knearest\n",
    "\n",
    "Parameters\n",
    "----------\n",
    "restaurant_id : string\n",
    "    The id of the restaurant whose nearest neighbors we want\n",
    "set_of_restaurants : array\n",
    "    The set of restaurants from which we want to find the nearest neighbors\n",
    "dbase : instance of Database class.\n",
    "    A database of similarities, on which the get method can be used to get the similarity\n",
    "  of two businesses. e.g. dbase.get(rid1,rid2)\n",
    "k : int\n",
    "    the number of nearest neighbors desired, default 7\n",
    "reg: float\n",
    "    the regularization.\n",
    "    \n",
    "  \n",
    "Returns\n",
    "--------\n",
    "A sorted list\n",
    "    of the top k similar restaurants. The list is a list of tuples\n",
    "    (business_id, shrunken similarity, common support).\n",
    "\"\"\"\n",
    "from operator import itemgetter\n",
    "def knearest(restaurant_id, set_of_restaurants, dbase, k=7, reg=3.):\n",
    "    \"\"\"\n",
    "    Given a restaurant_id, dataframe, and database, get a sorted list of the\n",
    "    k most similar restaurants from the set of restaurants.\n",
    "    \"\"\"\n",
    "    similars=[]\n",
    "    for other_rest_id in set_of_restaurants:\n",
    "        if other_rest_id!=restaurant_id:\n",
    "            sim, nc=dbase.get(restaurant_id, other_rest_id)\n",
    "            ssim=shrunk_sim(sim, nc, reg=reg)\n",
    "            simdist=(1. - ssim)/2.\n",
    "            similars.append((other_rest_id, simdist, nc ))\n",
    "    similars=sorted(similars, key=itemgetter(1))\n",
    "    return similars[0:k]"
   ]
  },
  {
   "cell_type": "code",
   "execution_count": 245,
   "metadata": {
    "collapsed": true
   },
   "outputs": [],
   "source": [
    "def get_users_restaurants(df, user_id):\n",
    "    dfuser=df[df.userID==user_id]\n",
    "    dfuserdedup=dfuser.drop_duplicates('ISBN')\n",
    "    return dict(zip(dfuserdedup.ISBN.values, dfuserdedup.bookRating.values))"
   ]
  },
  {
   "cell_type": "code",
   "execution_count": 246,
   "metadata": {
    "collapsed": false
   },
   "outputs": [],
   "source": [
    "\"\"\"\n",
    "Function\n",
    "--------\n",
    "rating\n",
    "\n",
    "Parameters\n",
    "----------\n",
    "set_of_restaurants: Dictionary\n",
    "    The dictionary of restaurant: star-rating pairs you want to make the prediction from.\n",
    "    This would be the output of a function like get_users_restaurants\n",
    "train_map: Dictionary\n",
    "    A dictionary with keys mean, users and items which have estimates of\n",
    "    overall average or intercept, user coefficients(averages), and\n",
    "    item coefficients(averages) respectively\n",
    "dbase : instance of Database class.\n",
    "    A database of similarities, on which the get method can be used to get the similarity\n",
    "  of two businessed. e.g. dbase.get(rid1,rid2)\n",
    "restaurant_id : string\n",
    "    The id of the restaurant whose nearest neighbors we want\n",
    "user_id : string\n",
    "    The id of the user, in whose reviewed restaurants we want to find the neighbors\n",
    "k : int\n",
    "    the number of nearest neighbors desired, default 7\n",
    "reg: float\n",
    "    the regularization.\n",
    "    \n",
    "  \n",
    "Returns\n",
    "--------\n",
    "A float\n",
    "    which is the imputed rating that we predict that user_id will make for restaurant_id\n",
    "    \n",
    "Notes\n",
    "--------\n",
    "If the sum of scores is 0, return the baseline estimate of the ranking.\n",
    "\"\"\"\n",
    "#your code here\n",
    "def rating(set_of_restaurants, train_map, dbase, restaurant_id, user_id, k=7, reg=3.):\n",
    "    mu=train_map['mean']\n",
    "    restaurant_bias=train_map['items'][restaurant_id]\n",
    "    user_bias=train_map['users'][user_id]\n",
    "    \n",
    "    nsum=0.\n",
    "    scoresum=0.\n",
    "    list_of_restaurants=set_of_restaurants.keys()\n",
    "    nears=knearest(restaurant_id, list_of_restaurants, dbase, k=k, reg=reg)\n",
    "    scores=[]\n",
    "    for r,sd,nc in nears:\n",
    "        s = 1. - sd\n",
    "        scoresum=scoresum+s\n",
    "        scores.append(s)\n",
    "        r_stars=set_of_restaurants[r]\n",
    "        r_bias=train_map['items'][r]\n",
    "        rbaseline=(r_bias + user_bias + mu)\n",
    "        rminusb=(r_stars - rbaseline)\n",
    "        nsum=nsum+s*rminusb\n",
    "    baseline=(user_bias +restaurant_bias + mu)\n",
    "    #we might have nears, but there might be no commons, giving us a pearson of 0\n",
    "    if scoresum > 0.:\n",
    "        val =  nsum/scoresum + baseline\n",
    "    else:#zero yet as sim=0 AND nc=0 is no commons.\n",
    "        val=baseline\n",
    "    return val"
   ]
  },
  {
   "cell_type": "code",
   "execution_count": 247,
   "metadata": {
    "collapsed": false
   },
   "outputs": [],
   "source": [
    "# testdf[testdf.userID==trainuser]"
   ]
  },
  {
   "cell_type": "code",
   "execution_count": 248,
   "metadata": {
    "collapsed": false
   },
   "outputs": [
    {
     "name": "stdout",
     "output_type": "stream",
     "text": [
      "4017 0671510053\n"
     ]
    }
   ],
   "source": [
    "trainuser=traindf.loc[11].userID\n",
    "testrest=testdf[testdf.userID==trainuser].ISBN.values[0]\n",
    "print trainuser, testrest"
   ]
  },
  {
   "cell_type": "code",
   "execution_count": 249,
   "metadata": {
    "collapsed": false
   },
   "outputs": [
    {
     "name": "stdout",
     "output_type": "stream",
     "text": [
      "Actual 10\n",
      "Predicted 9.61470588235\n"
     ]
    }
   ],
   "source": [
    "def get_actual(df, userid, bizid):\n",
    "    return df[(df.userID==userid) & (df.ISBN==bizid)]['bookRating'].values[0]\n",
    "\n",
    "print \"Actual\", get_actual(testdf, trainuser, testrest)\n",
    "print \"Predicted\",rating(get_users_restaurants(traindf, trainuser), train_avgs, db, testrest, trainuser, k=2, reg=3.)"
   ]
  },
  {
   "cell_type": "code",
   "execution_count": 250,
   "metadata": {
    "collapsed": true
   },
   "outputs": [],
   "source": [
    "def get_ratings_user_nbd(indf, traindf, train_map, db, k=2, reg=3.):\n",
    "    zips=zip(indf.ISBN, indf.userID, indf.bookRating)\n",
    "    preds=[]\n",
    "    actuals=[]\n",
    "    for (r,u,actual) in zips:\n",
    "        pred=rating(get_users_restaurants(traindf, u),train_map, db, r,u, k, reg)\n",
    "        preds.append(pred)\n",
    "        actuals.append(actual)\n",
    "    return np.array(preds), np.array(actuals)"
   ]
  },
  {
   "cell_type": "code",
   "execution_count": 251,
   "metadata": {
    "collapsed": false
   },
   "outputs": [
    {
     "name": "stdout",
     "output_type": "stream",
     "text": [
      "RMSE for knn(user) on training k=4, reg=4 1.50929938798\n"
     ]
    },
    {
     "data": {
      "text/plain": [
       "(<matplotlib.axes._subplots.AxesSubplot at 0x32ed56d8>, 1.5092993879815066)"
      ]
     },
     "execution_count": 251,
     "metadata": {},
     "output_type": "execute_result"
    },
    {
     "data": {
      "image/png": "[encoded data removed]",
      "text/plain": [
       "<matplotlib.figure.Figure at 0x32ed5860>"
      ]
     },
     "metadata": {},
     "output_type": "display_data"
    }
   ],
   "source": [
    "pt, at = get_ratings_user_nbd(traindf, traindf, train_avgs, db, k=4, reg=4.)\n",
    "compare_results(at,pt, model=\"knn(user) on training k=4, reg=4\", predicteds=True)"
   ]
  },
  {
   "cell_type": "code",
   "execution_count": 252,
   "metadata": {
    "collapsed": false
   },
   "outputs": [
    {
     "data": {
      "text/plain": [
       "{(5, 0.5): 1.6167897942071823,\n",
       " (5, 1.0): 1.6167897942071823,\n",
       " (5, 3.0): 1.6167897942071823,\n",
       " (5, 5.0): 1.6167897942071823,\n",
       " (5, 10.0): 1.6167897942071823,\n",
       " (5, 20.0): 1.6167897942071823,\n",
       " (5, 50.0): 1.6167897942071823,\n",
       " (5, 100.0): 1.6167897942071823,\n",
       " (10, 0.5): 1.5606581084518496,\n",
       " (10, 1.0): 1.5606581084518496,\n",
       " (10, 3.0): 1.5606581084518496,\n",
       " (10, 5.0): 1.5606581084518496,\n",
       " (10, 10.0): 1.5606581084518496,\n",
       " (10, 20.0): 1.5606581084518496,\n",
       " (10, 50.0): 1.5606581084518496,\n",
       " (10, 100.0): 1.5606581084518496,\n",
       " (20, 0.5): 1.5609572585530107,\n",
       " (20, 1.0): 1.5609572585530107,\n",
       " (20, 3.0): 1.5609572585530107,\n",
       " (20, 5.0): 1.5609572585530107,\n",
       " (20, 10.0): 1.5609572585530107,\n",
       " (20, 20.0): 1.5609572585530107,\n",
       " (20, 50.0): 1.5609572585530107,\n",
       " (20, 100.0): 1.5609572585530107,\n",
       " (28, 0.5): 1.5551021264243099,\n",
       " (28, 1.0): 1.5551021264243099,\n",
       " (28, 3.0): 1.5551021264243099,\n",
       " (28, 5.0): 1.5551021264243099,\n",
       " (28, 10.0): 1.5551021264243099,\n",
       " (28, 20.0): 1.5551021264243099,\n",
       " (28, 50.0): 1.5551021264243099,\n",
       " (28, 100.0): 1.5551021264243099,\n",
       " (30, 0.5): 1.5531021681011372,\n",
       " (30, 1.0): 1.5531021681011372,\n",
       " (30, 3.0): 1.5531021681011372,\n",
       " (30, 5.0): 1.5531021681011372,\n",
       " (30, 10.0): 1.5531021681011372,\n",
       " (30, 20.0): 1.5531021681011372,\n",
       " (30, 50.0): 1.5531021681011372,\n",
       " (30, 100.0): 1.5531021681011372,\n",
       " (32, 0.5): 1.553940235810515,\n",
       " (32, 1.0): 1.553940235810515,\n",
       " (32, 3.0): 1.553940235810515,\n",
       " (32, 5.0): 1.553940235810515,\n",
       " (32, 10.0): 1.553940235810515,\n",
       " (32, 20.0): 1.553940235810515,\n",
       " (32, 50.0): 1.553940235810515,\n",
       " (32, 100.0): 1.553940235810515,\n",
       " (35, 0.5): 1.5530501250781941,\n",
       " (35, 1.0): 1.5530501250781941,\n",
       " (35, 3.0): 1.5530501250781941,\n",
       " (35, 5.0): 1.5530501250781941,\n",
       " (35, 10.0): 1.5530501250781941,\n",
       " (35, 20.0): 1.5530501250781941,\n",
       " (35, 50.0): 1.5530501250781941,\n",
       " (35, 100.0): 1.5530501250781941,\n",
       " (50, 0.5): 1.5523308286077036,\n",
       " (50, 1.0): 1.5523308286077036,\n",
       " (50, 3.0): 1.5523308286077036,\n",
       " (50, 5.0): 1.5523308286077036,\n",
       " (50, 10.0): 1.5523308286077036,\n",
       " (50, 20.0): 1.5523308286077036,\n",
       " (50, 50.0): 1.5523308286077036,\n",
       " (50, 100.0): 1.5523308286077036,\n",
       " (100, 0.5): 1.5516177550793604,\n",
       " (100, 1.0): 1.5516177550793604,\n",
       " (100, 3.0): 1.5516177550793604,\n",
       " (100, 5.0): 1.5516177550793604,\n",
       " (100, 10.0): 1.5516177550793604,\n",
       " (100, 20.0): 1.5516177550793604,\n",
       " (100, 50.0): 1.5516177550793604,\n",
       " (100, 100.0): 1.5516177550793604}"
      ]
     },
     "execution_count": 252,
     "metadata": {},
     "output_type": "execute_result"
    }
   ],
   "source": [
    "rmsedict={}\n",
    "ks=[5, 10, 20, 28, 30, 32, 35, 50, 100]\n",
    "regs=[0.5, 1., 3., 5., 10., 20., 50., 100.]\n",
    "for k in ks:\n",
    "    for reg in regs:\n",
    "        p,a=get_ratings_user_nbd(validatedf, traindf, train_avgs, db, k=k, reg=reg)\n",
    "        rmse=get_rmse(a,p)\n",
    "        rmsedict[(k,reg)]=rmse\n",
    "rmsedict"
   ]
  },
  {
   "cell_type": "code",
   "execution_count": 253,
   "metadata": {
    "collapsed": false
   },
   "outputs": [
    {
     "data": {
      "text/plain": [
       "(100, 3.0)"
      ]
     },
     "execution_count": 253,
     "metadata": {},
     "output_type": "execute_result"
    }
   ],
   "source": [
    "mintup=min(rmsedict, key=rmsedict.get)\n",
    "mintup"
   ]
  },
  {
   "cell_type": "code",
   "execution_count": 254,
   "metadata": {
    "collapsed": false
   },
   "outputs": [
    {
     "name": "stdout",
     "output_type": "stream",
     "text": [
      "RMSE for baseline 1.66532871087\n",
      "RMSE for knn(user) 1.62250164721\n"
     ]
    },
    {
     "data": {
      "image/png": "[encoded data removed]",
      "text/plain": [
       "<matplotlib.figure.Figure at 0x1fb09518>"
      ]
     },
     "metadata": {},
     "output_type": "display_data"
    }
   ],
   "source": [
    "predictions['knn'], atest = get_ratings_user_nbd(testdf, traindf, train_avgs, db, k=mintup[0], reg=mintup[1])\n",
    "predictions_valid['knn'], _ = get_ratings_user_nbd(validatedf, traindf, train_avgs, db, k=mintup[0], reg=mintup[1])\n",
    "\n",
    "ax,_=compare_results(atest,predictions['baseline'], model=\"baseline\");\n",
    "compare_results(atest,predictions['knn'], model=\"knn(user)\", predicteds=True, onsame=ax);"
   ]
  },
  {
   "cell_type": "code",
   "execution_count": 255,
   "metadata": {
    "collapsed": false
   },
   "outputs": [
    {
     "name": "stdout",
     "output_type": "stream",
     "text": [
      "For restaurant 0345339703  and user 56447 , top matches are:\n",
      "0 0312278586 | Sim 0.5 | Support 0 | Actual 7\n",
      "1 0380789035 | Sim 0.5 | Support 0 | Actual 7\n",
      "2 0060928336 | Sim 0.5 | Support 0 | Actual 8\n",
      "3 0439064872 | Sim 0.5 | Support 0 | Actual 8\n",
      "4 0671003755 | Sim 0.5 | Support 0 | Actual 8\n",
      "5 0140067477 | Sim 0.5 | Support 0 | Actual 8\n",
      "6 059035342X | Sim 0.5 | Support 0 | Actual 7\n",
      "7 0842329129 | Sim 0.5 | Support 0 | Actual 6\n",
      "8 0440219078 | Sim 0.5 | Support 0 | Actual 8\n",
      "9 0316776963 | Sim 0.5 | Support 0 | Actual 7\n",
      "10 0316666343 | Sim 0.5 | Support 0 | Actual 8\n"
     ]
    }
   ],
   "source": [
    "randomuser=np.random.choice(uuids)\n",
    "randomrest=np.random.choice(uiids)\n",
    "\n",
    "set_of_restaurants = get_users_restaurants(traindf, randomuser)\n",
    "tops=knearest(randomrest, set_of_restaurants, db, k=mintup[0], reg=mintup[1])\n",
    "print \"For restaurant\",randomrest, \" and user\", randomuser, \", top matches are:\"\n",
    "for i, (biz_id, sim, nc) in enumerate(tops):\n",
    "    print i,biz_id, \"| Sim\", sim, \"| Support\",nc,\"| Actual\", get_actual(traindf, randomuser, biz_id)"
   ]
  },
  {
   "cell_type": "code",
   "execution_count": 256,
   "metadata": {
    "collapsed": false
   },
   "outputs": [
    {
     "data": {
      "text/plain": [
       "(278L,)"
      ]
     },
     "execution_count": 256,
     "metadata": {},
     "output_type": "execute_result"
    }
   ],
   "source": [
    "from sklearn.linear_model import Ridge\n",
    "features=np.concatenate([uuids,uiids])\n",
    "features.shape"
   ]
  },
  {
   "cell_type": "code",
   "execution_count": 257,
   "metadata": {
    "collapsed": true
   },
   "outputs": [],
   "source": [
    "#your code here#your co \n",
    "def getmats(indf):\n",
    "    stvals=indf[['userID', 'ISBN', 'bookRating']].values\n",
    "    designm=np.zeros((stvals.shape[0], features.shape[0]))\n",
    "    ratings=np.zeros(stvals.shape[0])\n",
    "    for i, row in enumerate(stvals):\n",
    "        designm[i,:]=np.concatenate([1*(row[0]==uuids), 1*(row[1]==uiids)])\n",
    "        ratings[i]=row[2]\n",
    "    return designm, ratings"
   ]
  },
  {
   "cell_type": "code",
   "execution_count": 258,
   "metadata": {
    "collapsed": false
   },
   "outputs": [
    {
     "name": "stderr",
     "output_type": "stream",
     "text": [
      "C:\\Anaconda2\\lib\\site-packages\\ipykernel\\__main__.py:7: UnicodeWarning: Unicode equal comparison failed to convert both arguments to Unicode - interpreting them as being unequal\n"
     ]
    },
    {
     "ename": "ValueError",
     "evalue": "all the input arrays must have same number of dimensions",
     "output_type": "error",
     "traceback": [
      "\u001b[0;31m\u001b[0m",
      "\u001b[0;31mValueError\u001b[0mTraceback (most recent call last)",
      "\u001b[0;32m<ipython-input-258-1b1b49dead1b>\u001b[0m in \u001b[0;36m<module>\u001b[0;34m()\u001b[0m\n\u001b[0;32m----> 1\u001b[0;31m \u001b[0mdesignm\u001b[0m\u001b[1;33m,\u001b[0m \u001b[0mratings\u001b[0m \u001b[1;33m=\u001b[0m \u001b[0mgetmats\u001b[0m\u001b[1;33m(\u001b[0m\u001b[0mtraindf\u001b[0m\u001b[1;33m)\u001b[0m\u001b[1;33m\u001b[0m\u001b[0m\n\u001b[0m\u001b[1;32m      2\u001b[0m \u001b[1;31m# validatedm, validaterats = getmats(validatedf)\u001b[0m\u001b[1;33m\u001b[0m\u001b[1;33m\u001b[0m\u001b[0m\n",
      "\u001b[0;32m<ipython-input-257-9b7ba2d2ba93>\u001b[0m in \u001b[0;36mgetmats\u001b[0;34m(indf)\u001b[0m\n\u001b[1;32m      5\u001b[0m     \u001b[0mratings\u001b[0m\u001b[1;33m=\u001b[0m\u001b[0mnp\u001b[0m\u001b[1;33m.\u001b[0m\u001b[0mzeros\u001b[0m\u001b[1;33m(\u001b[0m\u001b[0mstvals\u001b[0m\u001b[1;33m.\u001b[0m\u001b[0mshape\u001b[0m\u001b[1;33m[\u001b[0m\u001b[1;36m0\u001b[0m\u001b[1;33m]\u001b[0m\u001b[1;33m)\u001b[0m\u001b[1;33m\u001b[0m\u001b[0m\n\u001b[1;32m      6\u001b[0m     \u001b[1;32mfor\u001b[0m \u001b[0mi\u001b[0m\u001b[1;33m,\u001b[0m \u001b[0mrow\u001b[0m \u001b[1;32min\u001b[0m \u001b[0menumerate\u001b[0m\u001b[1;33m(\u001b[0m\u001b[0mstvals\u001b[0m\u001b[1;33m)\u001b[0m\u001b[1;33m:\u001b[0m\u001b[1;33m\u001b[0m\u001b[0m\n\u001b[0;32m----> 7\u001b[0;31m         \u001b[0mdesignm\u001b[0m\u001b[1;33m[\u001b[0m\u001b[0mi\u001b[0m\u001b[1;33m,\u001b[0m\u001b[1;33m:\u001b[0m\u001b[1;33m]\u001b[0m\u001b[1;33m=\u001b[0m\u001b[0mnp\u001b[0m\u001b[1;33m.\u001b[0m\u001b[0mconcatenate\u001b[0m\u001b[1;33m(\u001b[0m\u001b[1;33m[\u001b[0m\u001b[1;36m1\u001b[0m\u001b[1;33m*\u001b[0m\u001b[1;33m(\u001b[0m\u001b[0mrow\u001b[0m\u001b[1;33m[\u001b[0m\u001b[1;36m0\u001b[0m\u001b[1;33m]\u001b[0m\u001b[1;33m==\u001b[0m\u001b[0muuids\u001b[0m\u001b[1;33m)\u001b[0m\u001b[1;33m,\u001b[0m \u001b[1;36m1\u001b[0m\u001b[1;33m*\u001b[0m\u001b[1;33m(\u001b[0m\u001b[0mrow\u001b[0m\u001b[1;33m[\u001b[0m\u001b[1;36m1\u001b[0m\u001b[1;33m]\u001b[0m\u001b[1;33m==\u001b[0m\u001b[0muiids\u001b[0m\u001b[1;33m)\u001b[0m\u001b[1;33m]\u001b[0m\u001b[1;33m)\u001b[0m\u001b[1;33m\u001b[0m\u001b[0m\n\u001b[0m\u001b[1;32m      8\u001b[0m         \u001b[0mratings\u001b[0m\u001b[1;33m[\u001b[0m\u001b[0mi\u001b[0m\u001b[1;33m]\u001b[0m\u001b[1;33m=\u001b[0m\u001b[0mrow\u001b[0m\u001b[1;33m[\u001b[0m\u001b[1;36m2\u001b[0m\u001b[1;33m]\u001b[0m\u001b[1;33m\u001b[0m\u001b[0m\n\u001b[1;32m      9\u001b[0m     \u001b[1;32mreturn\u001b[0m \u001b[0mdesignm\u001b[0m\u001b[1;33m,\u001b[0m \u001b[0mratings\u001b[0m\u001b[1;33m\u001b[0m\u001b[0m\n",
      "\u001b[0;31mValueError\u001b[0m: all the input arrays must have same number of dimensions"
     ]
    }
   ],
   "source": [
    "designm, ratings = getmats(traindf)\n",
    "# validatedm, validaterats = getmats(validatedf)"
   ]
  },
  {
   "cell_type": "code",
   "execution_count": null,
   "metadata": {
    "collapsed": false
   },
   "outputs": [],
   "source": [
    "stvals=traindf[['userID', 'ISBN', 'bookRating']].values\n",
    "designm=np.zeros((stvals.shape[0], features.shape[0]))\n",
    "ratings=np.zeros(stvals.shape[0])\n",
    "for i, row in enumerate(stvals):\n",
    "    designm[i,:]=np.concatenate([1*(row[0]==uuids), 1*(row[1]==uiids)])\n",
    "#     ratings[i]=row[2]"
   ]
  },
  {
   "cell_type": "code",
   "execution_count": null,
   "metadata": {
    "collapsed": false
   },
   "outputs": [],
   "source": [
    "1*(row[0]==uuids)"
   ]
  },
  {
   "cell_type": "code",
   "execution_count": null,
   "metadata": {
    "collapsed": false
   },
   "outputs": [],
   "source": [
    "1*(row[1]==uiids)"
   ]
  },
  {
   "cell_type": "code",
   "execution_count": null,
   "metadata": {
    "collapsed": false
   },
   "outputs": [],
   "source": [
    "row[1]"
   ]
  },
  {
   "cell_type": "code",
   "execution_count": null,
   "metadata": {
    "collapsed": false
   },
   "outputs": [],
   "source": [
    "uiids"
   ]
  },
  {
   "cell_type": "code",
   "execution_count": null,
   "metadata": {
    "collapsed": false
   },
   "outputs": [],
   "source": [
    "row[0],row[1]"
   ]
  }
 ],
 "metadata": {
  "kernelspec": {
   "display_name": "Python 2",
   "language": "python",
   "name": "python2"
  }
 },
 "nbformat": 4,
 "nbformat_minor": 2
}
